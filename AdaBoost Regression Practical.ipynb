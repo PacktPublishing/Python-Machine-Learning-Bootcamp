{
 "cells": [
  {
   "cell_type": "code",
   "execution_count": 1,
   "metadata": {},
   "outputs": [],
   "source": [
    "import pandas as pd\n",
    "import numpy as np\n",
    "import matplotlib.pyplot as plt\n",
    "\n",
    "from sklearn.datasets import load_boston\n",
    "from sklearn.model_selection import train_test_split\n",
    "from sklearn.tree import DecisionTreeRegressor\n",
    "from sklearn.pipeline import Pipeline\n",
    "from sklearn.preprocessing import StandardScaler\n",
    "\n",
    "data = load_boston()\n",
    "data.keys()\n",
    "\n",
    "X, y = data[\"data\"], data[\"target\"]\n",
    "\n",
    "X_train, X_test, y_train, y_test = train_test_split(X, y, test_size=0.2, random_state=0)\n",
    "\n",
    "pipe = Pipeline([('std_scl',StandardScaler())])\n",
    "X_train = pipe.fit_transform(X_train)\n",
    "X_test = pipe.transform(X_test)\n",
    "\n",
    "X_train = pd.DataFrame(X_train,columns=data[\"feature_names\"])\n",
    "X_test = pd.DataFrame(X_test,columns=data[\"feature_names\"])\n",
    "y_train = pd.DataFrame(y_train,columns=[\"target\"])\n",
    "y_test = pd.DataFrame(y_test,columns=[\"target\"])"
   ]
  },
  {
   "cell_type": "code",
   "execution_count": 2,
   "metadata": {},
   "outputs": [
    {
     "name": "stderr",
     "output_type": "stream",
     "text": [
      "/Users/maxschallwig/opt/anaconda3/lib/python3.7/site-packages/sklearn/utils/validation.py:760: DataConversionWarning: A column-vector y was passed when a 1d array was expected. Please change the shape of y to (n_samples, ), for example using ravel().\n",
      "  y = column_or_1d(y, warn=True)\n"
     ]
    },
    {
     "data": {
      "text/plain": [
       "AdaBoostRegressor(base_estimator=DecisionTreeRegressor(ccp_alpha=0.0,\n",
       "                                                       criterion='mse',\n",
       "                                                       max_depth=3,\n",
       "                                                       max_features='sqrt',\n",
       "                                                       max_leaf_nodes=None,\n",
       "                                                       min_impurity_decrease=0.0,\n",
       "                                                       min_impurity_split=None,\n",
       "                                                       min_samples_leaf=1,\n",
       "                                                       min_samples_split=2,\n",
       "                                                       min_weight_fraction_leaf=0.0,\n",
       "                                                       presort='deprecated',\n",
       "                                                       random_state=None,\n",
       "                                                       splitter='random'),\n",
       "                  learning_rate=0.1, loss='square', n_estimators=30,\n",
       "                  random_state=0)"
      ]
     },
     "execution_count": 2,
     "metadata": {},
     "output_type": "execute_result"
    }
   ],
   "source": [
    "from sklearn.ensemble import AdaBoostRegressor\n",
    "\n",
    "adaboost_reg = AdaBoostRegressor(base_estimator=DecisionTreeRegressor(max_depth=3,\n",
    "                                                      max_features='sqrt',\n",
    "                                                      splitter='random'),\n",
    "                            n_estimators=30,\n",
    "                            learning_rate=0.1,\n",
    "                            loss='square', # linear, exponential\n",
    "                            random_state=0 # random state fed to base_estimator \n",
    "                            )\n",
    "\n",
    "adaboost_reg.fit(X_train, y_train)"
   ]
  },
  {
   "cell_type": "code",
   "execution_count": 3,
   "metadata": {},
   "outputs": [
    {
     "name": "stdout",
     "output_type": "stream",
     "text": [
      "30\n",
      "30\n",
      "30\n",
      "13\n"
     ]
    }
   ],
   "source": [
    "print(len(adaboost_reg.estimators_)) # array of trained estimators\n",
    "print(len(adaboost_reg.estimator_weights_)) # estimator weights for each estimator\n",
    "print(len(adaboost_reg.estimator_errors_)) # classification error for each estimator\n",
    "print(len(adaboost_reg.feature_importances_))"
   ]
  },
  {
   "cell_type": "code",
   "execution_count": 4,
   "metadata": {},
   "outputs": [
    {
     "data": {
      "text/plain": [
       "0.45611689633904584"
      ]
     },
     "execution_count": 4,
     "metadata": {},
     "output_type": "execute_result"
    }
   ],
   "source": [
    "adaboost_reg.score(X_test, y_test)"
   ]
  },
  {
   "cell_type": "code",
   "execution_count": 8,
   "metadata": {},
   "outputs": [
    {
     "name": "stdout",
     "output_type": "stream",
     "text": [
      "stage:  1 staged_score: 0.274\n",
      "stage:  2 staged_score: 0.1047\n",
      "stage:  3 staged_score: 0.2672\n",
      "stage:  4 staged_score: 0.2073\n",
      "stage:  5 staged_score: 0.2149\n",
      "stage:  6 staged_score: 0.1573\n",
      "stage:  7 staged_score: 0.2307\n",
      "stage:  8 staged_score: 0.2134\n",
      "stage:  9 staged_score: 0.2481\n",
      "stage: 10 staged_score: 0.2465\n",
      "stage: 11 staged_score: 0.2736\n",
      "stage: 12 staged_score: 0.2701\n",
      "stage: 13 staged_score: 0.2599\n",
      "stage: 14 staged_score: 0.2728\n",
      "stage: 15 staged_score: 0.3015\n",
      "stage: 16 staged_score: 0.3247\n",
      "stage: 17 staged_score: 0.3192\n",
      "stage: 18 staged_score: 0.3475\n",
      "stage: 19 staged_score: 0.3672\n",
      "stage: 20 staged_score: 0.3779\n",
      "stage: 21 staged_score: 0.3873\n",
      "stage: 22 staged_score: 0.3819\n",
      "stage: 23 staged_score: 0.3808\n",
      "stage: 24 staged_score: 0.3974\n",
      "stage: 25 staged_score: 0.4232\n",
      "stage: 26 staged_score: 0.4267\n",
      "stage: 27 staged_score: 0.4354\n",
      "stage: 28 staged_score: 0.4325\n",
      "stage: 29 staged_score: 0.4369\n",
      "stage: 30 staged_score: 0.4561\n"
     ]
    }
   ],
   "source": [
    "stage = 1\n",
    "for stage_pred, staged_score in zip(adaboost_reg.staged_predict(X_test),\n",
    "                                    adaboost_reg.staged_score(X_test, y_test)):\n",
    "    print('stage:',\"{0:2d}\".format(stage),\n",
    "          'staged_score:',round(staged_score,4))\n",
    "    stage += 1"
   ]
  },
  {
   "cell_type": "code",
   "execution_count": null,
   "metadata": {},
   "outputs": [],
   "source": []
  }
 ],
 "metadata": {
  "kernelspec": {
   "display_name": "Python 3",
   "language": "python",
   "name": "python3"
  },
  "language_info": {
   "codemirror_mode": {
    "name": "ipython",
    "version": 3
   },
   "file_extension": ".py",
   "mimetype": "text/x-python",
   "name": "python",
   "nbconvert_exporter": "python",
   "pygments_lexer": "ipython3",
   "version": "3.7.6"
  }
 },
 "nbformat": 4,
 "nbformat_minor": 2
}
