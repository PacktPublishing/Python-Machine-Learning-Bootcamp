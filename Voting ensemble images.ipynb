{
 "cells": [
  {
   "cell_type": "code",
   "execution_count": null,
   "metadata": {},
   "outputs": [],
   "source": [
    "import pandas as pd\n",
    "import numpy as np\n",
    "import matplotlib.pyplot as plt\n",
    "\n",
    "from sklearn.datasets import fetch_openml, load_iris\n",
    "from sklearn.model_selection import StratifiedShuffleSplit\n",
    "from sklearn.linear_model import LogisticRegression\n",
    "from sklearn.tree import DecisionTreeClassifier\n",
    "from sklearn.neighbors import KNeighborsClassifier\n",
    "from sklearn.naive_bayes import GaussianNB\n",
    "from sklearn.svm import SVC\n",
    "\n",
    "# data= fetch_openml('mnist_784', version=1)#Get data from https://www.openml.org/d/554\n",
    "data = load_iris()\n",
    "data"
   ]
  },
  {
   "cell_type": "code",
   "execution_count": 2,
   "metadata": {},
   "outputs": [],
   "source": [
    "dfData = pd.DataFrame(np.c_[data[\"data\"],data[\"target\"]],columns = data[\"feature_names\"]+[\"target\"])\n",
    "stratSplit = StratifiedShuffleSplit(n_splits=1, test_size=0.2, random_state=0)\n",
    "\n",
    "for train_index, test_index in stratSplit.split(dfData[data[\"feature_names\"]], dfData[\"target\"]):\n",
    "    X_train = dfData[data[\"feature_names\"]].iloc[train_index]\n",
    "    X_test = dfData[data[\"feature_names\"]].iloc[test_index]\n",
    "    \n",
    "    y_train = dfData[\"target\"].iloc[train_index]\n",
    "    y_test = dfData[\"target\"].iloc[test_index]"
   ]
  },
  {
   "cell_type": "code",
   "execution_count": 49,
   "metadata": {},
   "outputs": [
    {
     "data": {
      "text/plain": [
       "VotingClassifier(estimators=[('log_reg',\n",
       "                              LogisticRegression(C=1.0, class_weight=None,\n",
       "                                                 dual=False, fit_intercept=True,\n",
       "                                                 intercept_scaling=1,\n",
       "                                                 l1_ratio=None, max_iter=100,\n",
       "                                                 multi_class='auto',\n",
       "                                                 n_jobs=None, penalty='l2',\n",
       "                                                 random_state=None,\n",
       "                                                 solver='lbfgs', tol=0.0001,\n",
       "                                                 verbose=0, warm_start=False)),\n",
       "                             ('knn',\n",
       "                              KNeighborsClassifier(algorithm='auto',\n",
       "                                                   leaf_size=30,\n",
       "                                                   metric='minkowski',\n",
       "                                                   metric_params=None,\n",
       "                                                   n_jobs=None, n_neighbors=5,\n",
       "                                                   p=2, weights='uniform')),\n",
       "                             ('GaussianNB',\n",
       "                              GaussianNB(priors=None, var_smoothing=1e-09))],\n",
       "                 flatten_transform=True, n_jobs=2, voting='hard', weights=None)"
      ]
     },
     "execution_count": 49,
     "metadata": {},
     "output_type": "execute_result"
    }
   ],
   "source": [
    "from sklearn.ensemble import VotingClassifier\n",
    "\n",
    "vote_clf = VotingClassifier(estimators=[\n",
    "                                        ('log_reg',LogisticRegression()),\n",
    "                                        ('knn',KNeighborsClassifier()),\n",
    "                                        ('GaussianNB',GaussianNB())\n",
    "                                        ],\n",
    "                          voting='hard', # soft\n",
    "                          weights=None, # weights for each classifier as a list\n",
    "                          n_jobs=2,\n",
    "                          flatten_transform=True # only relevant for soft voting\n",
    "                          )\n",
    "\n",
    "vote_clf.fit(X_train, y_train)"
   ]
  },
  {
   "cell_type": "code",
   "execution_count": 50,
   "metadata": {},
   "outputs": [
    {
     "name": "stdout",
     "output_type": "stream",
     "text": [
      "log_reg: 0.925\n",
      "knn: 0.973\n",
      "GaussianNB: 0.55\n"
     ]
    }
   ],
   "source": [
    "for estimator,est_name in zip(vote_clf.estimators_,vote_clf.named_estimators_):\n",
    "    print(f'{est_name}:',round(estimator.score(X_test,y_test.astype(int)),3))"
   ]
  },
  {
   "cell_type": "code",
   "execution_count": 51,
   "metadata": {},
   "outputs": [
    {
     "name": "stdout",
     "output_type": "stream",
     "text": [
      "Voting classifier: 0.943\n"
     ]
    }
   ],
   "source": [
    "print('Voting classifier:',round(vote_clf.score(X_test,y_test),3))"
   ]
  },
  {
   "cell_type": "code",
   "execution_count": 53,
   "metadata": {},
   "outputs": [
    {
     "data": {
      "text/plain": [
       "VotingClassifier(estimators=[('log_reg',\n",
       "                              LogisticRegression(C=1.0, class_weight=None,\n",
       "                                                 dual=False, fit_intercept=True,\n",
       "                                                 intercept_scaling=1,\n",
       "                                                 l1_ratio=None, max_iter=100,\n",
       "                                                 multi_class='auto',\n",
       "                                                 n_jobs=None, penalty='l2',\n",
       "                                                 random_state=None,\n",
       "                                                 solver='lbfgs', tol=0.0001,\n",
       "                                                 verbose=0, warm_start=False)),\n",
       "                             ('knn',\n",
       "                              KNeighborsClassifier(algorithm='auto',\n",
       "                                                   leaf_size=30,\n",
       "                                                   metric='minkowski',\n",
       "                                                   metric_params=None,\n",
       "                                                   n_jobs=None, n_neighbors=5,\n",
       "                                                   p=2, weights='uniform')),\n",
       "                             ('GaussianNB',\n",
       "                              GaussianNB(priors=None, var_smoothing=1e-09))],\n",
       "                 flatten_transform=True, n_jobs=2, voting='soft', weights=None)"
      ]
     },
     "execution_count": 53,
     "metadata": {},
     "output_type": "execute_result"
    }
   ],
   "source": [
    "vote_clf_soft = VotingClassifier(estimators=[\n",
    "                                        ('log_reg',LogisticRegression()),\n",
    "                                        ('knn',KNeighborsClassifier()),\n",
    "                                        ('GaussianNB',GaussianNB())\n",
    "                                        ],\n",
    "                          voting='soft', # soft\n",
    "                          weights=None, # weights for each classifier as a list\n",
    "                          n_jobs=2,\n",
    "                          flatten_transform=True # only relevant for soft voting\n",
    "                          )\n",
    "\n",
    "vote_clf_soft.fit(X_train, y_train)"
   ]
  },
  {
   "cell_type": "code",
   "execution_count": 63,
   "metadata": {},
   "outputs": [
    {
     "data": {
      "image/png": "[encoded data removed]",
      "text/plain": [
       "<Figure size 1152x576 with 2 Axes>"
      ]
     },
     "metadata": {
      "needs_background": "light"
     },
     "output_type": "display_data"
    }
   ],
   "source": [
    "ind = 1\n",
    "\n",
    "probas = []\n",
    "for estimator,est_name in zip(vote_clf_soft.estimators_,vote_clf.named_estimators_):\n",
    "    probas.append(estimator.predict_proba(X_test[ind:ind+1]))\n",
    "\n",
    "probas.append(vote_clf_soft.predict_proba(X_test[ind:ind+1]))\n",
    "\n",
    "pred_class = int(y_test.values[ind])\n",
    "fig = plt.figure(figsize=(16,8))\n",
    "ax = fig.add_subplot(121)\n",
    "i = 0\n",
    "w = 0.35\n",
    "for prob in probas:\n",
    "    predNot = 0\n",
    "    predIs = 0\n",
    "    for k in range(len(prob[0])):\n",
    "        if k == pred_class:\n",
    "            predIs += prob[0, k]\n",
    "        else:\n",
    "            predNot += prob[0, k]\n",
    "    plt.bar([i-w/2,i+w/2],height=[predIs,predNot],width=w,edgecolor='black')\n",
    "    i +=1\n",
    "\n",
    "plt.xticks(range(len(probas)),[f'is {pred_class}   isn\\'t\\nlog_reg',f'is {pred_class}   isn\\'t\\ndt_depth_2',\n",
    "                               f'is {pred_class}   isn\\'t\\nknn',f'is {pred_class}   isn\\'t\\nGaussianNB',\n",
    "                               f'is {pred_class}   isn\\'t\\nsoft vote'])\n",
    "plt.title(f\"Predict class {pred_class} probas\")\n",
    "ax = fig.add_subplot(122)\n",
    "plt.imshow(X_test.iloc[ind].astype(int).values.reshape(28,-1),cmap=plt.get_cmap('gray_r'))\n",
    "plt.show()"
   ]
  },
  {
   "cell_type": "code",
   "execution_count": null,
   "metadata": {},
   "outputs": [],
   "source": [
    "probas"
   ]
  },
  {
   "cell_type": "code",
   "execution_count": null,
   "metadata": {},
   "outputs": [],
   "source": [
    "from sklearn.datasets import load_boston\n",
    "from sklearn.preprocessing import StandardScaler\n",
    "from sklearn.model_selection import train_test_split\n",
    "from sklearn.pipeline import Pipeline\n",
    "\n",
    "data = load_boston()\n",
    "data.keys()\n",
    "\n",
    "X, y = data[\"data\"], data[\"target\"]\n",
    "\n",
    "X_train, X_test, y_train, y_test = train_test_split(X, y, test_size=0.2, random_state=0)\n",
    "\n",
    "pipe = Pipeline([('std_scl',StandardScaler())])\n",
    "X_train = pipe.fit_transform(X_train)\n",
    "X_test = pipe.transform(X_test)\n",
    "\n",
    "X_train = pd.DataFrame(X_train,columns=data[\"feature_names\"])\n",
    "X_test = pd.DataFrame(X_test,columns=data[\"feature_names\"])\n",
    "y_train = pd.DataFrame(y_train,columns=[\"target\"])\n",
    "y_test = pd.DataFrame(y_test,columns=[\"target\"])"
   ]
  },
  {
   "cell_type": "code",
   "execution_count": null,
   "metadata": {},
   "outputs": [],
   "source": [
    "from sklearn.ensemble import VotingRegressor\n",
    "from sklearn.neighbor import KNeighborsRegressor\n",
    "from sklearn.linear_model import Ridge\n",
    "from sklearn.tree import DecisionTreeRegressor\n",
    "\n",
    "vote_reg = VotingRegressor([('knn_reg',KNeighborsRegressor()),\n",
    "                            ('Ridge_reg',Ridge()),\n",
    "                            ('dt_reg',DecisionTreeRegressor(max_depth=3))\n",
    "                           ],\n",
    "                          weights=None,\n",
    "                          n_jobs=2)\n",
    "vote_reg.fit(X_train, y_train)"
   ]
  },
  {
   "cell_type": "code",
   "execution_count": null,
   "metadata": {},
   "outputs": [],
   "source": [
    "for estimator,est_name in zip(vote_reg.estimators_,vote_clf.named_estimators_):\n",
    "    print(f'{est_name}:',round(estimator.score(X_test,y_test),3))"
   ]
  },
  {
   "cell_type": "code",
   "execution_count": null,
   "metadata": {},
   "outputs": [],
   "source": [
    "print('Voting regressor:',round(vote_reg.score(X_test,y_test),3))"
   ]
  },
  {
   "cell_type": "code",
   "execution_count": null,
   "metadata": {},
   "outputs": [],
   "source": []
  }
 ],
 "metadata": {
  "kernelspec": {
   "display_name": "Python 3",
   "language": "python",
   "name": "python3"
  }
 },
 "nbformat": 4,
 "nbformat_minor": 2
}
