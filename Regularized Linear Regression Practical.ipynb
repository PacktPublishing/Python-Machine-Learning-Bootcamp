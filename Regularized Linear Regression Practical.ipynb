{
 "cells": [
  {
   "cell_type": "code",
   "execution_count": 1,
   "metadata": {},
   "outputs": [
    {
     "data": {
      "text/plain": [
       "dict_keys(['data', 'target', 'target_names', 'DESCR', 'feature_names', 'filename'])"
      ]
     },
     "execution_count": 1,
     "metadata": {},
     "output_type": "execute_result"
    }
   ],
   "source": [
    "import pandas as pd\n",
    "import numpy as np\n",
    "import matplotlib.pyplot as plt\n",
    "\n",
    "from sklearn.datasets import load_iris\n",
    "from sklearn.model_selection import train_test_split\n",
    "from sklearn.pipeline import Pipeline\n",
    "from sklearn.preprocessing import StandardScaler\n",
    "\n",
    "data = load_iris()\n",
    "data.keys()"
   ]
  },
  {
   "cell_type": "code",
   "execution_count": 2,
   "metadata": {},
   "outputs": [],
   "source": [
    "X = np.c_[data[\"data\"][:, 2:3],data[\"target\"]]\n",
    "y = data[\"data\"][:, 3]\n",
    "\n",
    "X_train, X_test, y_train, y_test = train_test_split(X, y, test_size=0.2, random_state=0)"
   ]
  },
  {
   "cell_type": "code",
   "execution_count": 3,
   "metadata": {},
   "outputs": [
    {
     "data": {
      "image/png": "[encoded data removed]",
      "text/plain": [
       "<Figure size 432x288 with 1 Axes>"
      ]
     },
     "metadata": {
      "needs_background": "light"
     },
     "output_type": "display_data"
    }
   ],
   "source": [
    "# L1 regularization\n",
    "# uses coordinate descent instead of gradient descent - each iterations fixes all coordinates except for a hyperlane\n",
    "# subset, and only optimizes along the reduced coordinate block\n",
    "from sklearn.linear_model import Lasso\n",
    "lasso_reg = Lasso(alpha = 0.1,\n",
    "                fit_intercept = True,\n",
    "                normalize = False,\n",
    "                copy_X = False,\n",
    "                precompute = False, # if you want to customize the learning approach\n",
    "                max_iter = 100,\n",
    "                tol = 1e-4,\n",
    "                warm_start = False,\n",
    "                positive = False,\n",
    "                selection = \"cyclic\", # \"random\" - coordinate descent\n",
    "                random_state = 0)# for feature selection using 'selection' above\n",
    "\n",
    "lasso_reg.fit(X_train, y_train)\n",
    "\n",
    "plt.scatter(X_train[:, 0], y_train, c=X_train[:, 1])\n",
    "cs = [\"purple\",\"blue\",\"orange\"]\n",
    "for i in range(3):\n",
    "    xs = np.c_[np.linspace(1,7,20),i*np.ones(20)]\n",
    "    plt.plot(xs[:,0],lasso_reg.predict(xs),label=\"class \"+str(i),c=cs[i])\n",
    "\n",
    "plt.xlabel(data[\"feature_names\"][2])\n",
    "plt.ylabel(data[\"feature_names\"][3])\n",
    "plt.title(\"Petal width lasso\")\n",
    "plt.ylim(0,3)\n",
    "plt.xlim(1,7)\n",
    "plt.legend()\n",
    "plt.show()\n",
    "#Works like feature selection"
   ]
  },
  {
   "cell_type": "code",
   "execution_count": 4,
   "metadata": {},
   "outputs": [
    {
     "data": {
      "text/plain": [
       "array([0.38892663, 0.        ])"
      ]
     },
     "execution_count": 4,
     "metadata": {},
     "output_type": "execute_result"
    }
   ],
   "source": [
    "lasso_reg.coef_"
   ]
  },
  {
   "cell_type": "code",
   "execution_count": 5,
   "metadata": {},
   "outputs": [
    {
     "data": {
      "text/plain": [
       "array([[0.38892663, 0.        ]])"
      ]
     },
     "execution_count": 5,
     "metadata": {},
     "output_type": "execute_result"
    }
   ],
   "source": [
    "lasso_reg.sparse_coef_.toarray() \n",
    "# useful for high number of features, since L1 works like feature selection and many weights can be 0"
   ]
  },
  {
   "cell_type": "code",
   "execution_count": 6,
   "metadata": {},
   "outputs": [
    {
     "data": {
      "text/plain": [
       "array([0.13651408])"
      ]
     },
     "execution_count": 6,
     "metadata": {},
     "output_type": "execute_result"
    }
   ],
   "source": [
    "lasso_reg.predict([[1,1]])"
   ]
  },
  {
   "cell_type": "code",
   "execution_count": 7,
   "metadata": {},
   "outputs": [
    {
     "data": {
      "text/plain": [
       "-0.25241255020674"
      ]
     },
     "execution_count": 7,
     "metadata": {},
     "output_type": "execute_result"
    }
   ],
   "source": [
    "lasso_reg.intercept_"
   ]
  },
  {
   "cell_type": "code",
   "execution_count": 8,
   "metadata": {},
   "outputs": [
    {
     "data": {
      "text/plain": [
       "2"
      ]
     },
     "execution_count": 8,
     "metadata": {},
     "output_type": "execute_result"
    }
   ],
   "source": [
    "lasso_reg.n_iter_"
   ]
  },
  {
   "cell_type": "code",
   "execution_count": 9,
   "metadata": {},
   "outputs": [],
   "source": [
    "from sklearn.preprocessing import OneHotEncoder\n",
    "from sklearn.preprocessing import StandardScaler\n",
    "from sklearn.pipeline import Pipeline\n",
    "from sklearn.compose import ColumnTransformer\n",
    "\n",
    "num_pipeline = Pipeline([\n",
    "                    (\"stand_scale\", StandardScaler())\n",
    "])\n",
    "\n",
    "class_pipeline = Pipeline([\n",
    "                    (\"one_hot_enc\", OneHotEncoder())\n",
    "])\n",
    "full_pipeline = ColumnTransformer([\n",
    "         (\"num\", num_pipeline, [0]),\n",
    "         (\"class\", class_pipeline, [1])\n",
    "     ])\n",
    "\n",
    "X_train_transf = full_pipeline.fit_transform(X_train)\n",
    "X_test_transf = full_pipeline.transform(X_test)"
   ]
  },
  {
   "cell_type": "code",
   "execution_count": 10,
   "metadata": {},
   "outputs": [
    {
     "data": {
      "text/plain": [
       "array([[ 0.94751783,  0.        ,  0.        ,  1.        ],\n",
       "       [ 0.38491447,  0.        ,  1.        ,  0.        ],\n",
       "       [-1.30289562,  1.        ,  0.        ,  0.        ],\n",
       "       [ 0.60995581,  0.        ,  0.        ,  1.        ],\n",
       "       [ 1.00377816,  0.        ,  0.        ,  1.        ],\n",
       "       [ 0.04735245,  0.        ,  1.        ,  0.        ],\n",
       "       [-1.19037495,  1.        ,  0.        ,  0.        ],\n",
       "       [ 0.72247648,  0.        ,  1.        ,  0.        ],\n",
       "       [ 0.21613346,  0.        ,  1.        ,  0.        ],\n",
       "       [ 0.10361279,  0.        ,  1.        ,  0.        ],\n",
       "       [ 0.94751783,  0.        ,  0.        ,  1.        ],\n",
       "       [-1.41541629,  1.        ,  0.        ,  0.        ],\n",
       "       [ 0.72247648,  0.        ,  0.        ,  1.        ],\n",
       "       [-1.24663528,  1.        ,  0.        ,  0.        ],\n",
       "       [-1.30289562,  1.        ,  0.        ,  0.        ],\n",
       "       [-0.1776889 ,  0.        ,  1.        ,  0.        ],\n",
       "       [ 0.94751783,  0.        ,  0.        ,  1.        ],\n",
       "       [ 1.0600385 ,  0.        ,  0.        ,  1.        ],\n",
       "       [ 0.66621615,  0.        ,  0.        ,  1.        ],\n",
       "       [ 1.11629884,  0.        ,  0.        ,  1.        ],\n",
       "       [ 0.04735245,  0.        ,  1.        ,  0.        ],\n",
       "       [ 1.28507985,  0.        ,  0.        ,  1.        ],\n",
       "       [ 0.49743514,  0.        ,  1.        ,  0.        ],\n",
       "       [-0.00890789,  0.        ,  1.        ,  0.        ],\n",
       "       [ 0.60995581,  0.        ,  0.        ,  1.        ],\n",
       "       [ 0.72247648,  0.        ,  0.        ,  1.        ],\n",
       "       [ 0.38491447,  0.        ,  0.        ,  1.        ],\n",
       "       [ 0.66621615,  0.        ,  0.        ,  1.        ],\n",
       "       [ 0.49743514,  0.        ,  1.        ,  0.        ],\n",
       "       [ 0.77873682,  0.        ,  0.        ,  1.        ],\n",
       "       [ 0.38491447,  0.        ,  1.        ,  0.        ],\n",
       "       [-1.24663528,  1.        ,  0.        ,  0.        ],\n",
       "       [ 0.72247648,  0.        ,  0.        ,  1.        ],\n",
       "       [ 0.21613346,  0.        ,  1.        ,  0.        ],\n",
       "       [-0.12142856,  0.        ,  1.        ,  0.        ],\n",
       "       [ 0.10361279,  0.        ,  1.        ,  0.        ],\n",
       "       [ 0.4411748 ,  0.        ,  1.        ,  0.        ],\n",
       "       [ 1.22881951,  0.        ,  0.        ,  1.        ],\n",
       "       [-1.30289562,  1.        ,  0.        ,  0.        ],\n",
       "       [-1.52793696,  1.        ,  0.        ,  0.        ],\n",
       "       [ 0.83499716,  0.        ,  0.        ,  1.        ],\n",
       "       [ 0.21613346,  0.        ,  1.        ,  0.        ],\n",
       "       [-1.19037495,  1.        ,  0.        ,  0.        ],\n",
       "       [-1.30289562,  1.        ,  0.        ,  0.        ],\n",
       "       [ 0.60995581,  0.        ,  1.        ,  0.        ],\n",
       "       [-1.30289562,  1.        ,  0.        ,  0.        ],\n",
       "       [ 0.72247648,  0.        ,  0.        ,  1.        ],\n",
       "       [-0.45899058,  0.        ,  1.        ,  0.        ],\n",
       "       [-1.35915595,  1.        ,  0.        ,  0.        ],\n",
       "       [ 0.38491447,  0.        ,  1.        ,  0.        ],\n",
       "       [ 1.28507985,  0.        ,  0.        ,  1.        ],\n",
       "       [ 0.21613346,  0.        ,  1.        ,  0.        ],\n",
       "       [-1.35915595,  1.        ,  0.        ,  0.        ],\n",
       "       [ 1.17255917,  0.        ,  0.        ,  1.        ],\n",
       "       [ 1.0600385 ,  0.        ,  0.        ,  1.        ],\n",
       "       [ 1.11629884,  0.        ,  0.        ,  1.        ],\n",
       "       [ 1.00377816,  0.        ,  0.        ,  1.        ],\n",
       "       [-1.24663528,  1.        ,  0.        ,  0.        ],\n",
       "       [-1.24663528,  1.        ,  0.        ,  0.        ],\n",
       "       [ 0.72247648,  0.        ,  0.        ,  1.        ],\n",
       "       [ 1.0600385 ,  0.        ,  0.        ,  1.        ],\n",
       "       [-1.41541629,  1.        ,  0.        ,  0.        ],\n",
       "       [ 0.89125749,  0.        ,  0.        ,  1.        ],\n",
       "       [-1.35915595,  1.        ,  0.        ,  0.        ],\n",
       "       [ 0.66621615,  0.        ,  0.        ,  1.        ],\n",
       "       [ 0.89125749,  0.        ,  0.        ,  1.        ],\n",
       "       [-1.41541629,  1.        ,  0.        ,  0.        ],\n",
       "       [-1.35915595,  1.        ,  0.        ,  0.        ],\n",
       "       [ 1.11629884,  0.        ,  0.        ,  1.        ],\n",
       "       [-1.35915595,  1.        ,  0.        ,  0.        ],\n",
       "       [-1.41541629,  1.        ,  0.        ,  0.        ],\n",
       "       [-1.19037495,  1.        ,  0.        ,  0.        ],\n",
       "       [ 0.10361279,  0.        ,  1.        ,  0.        ],\n",
       "       [ 1.17255917,  0.        ,  0.        ,  1.        ],\n",
       "       [ 1.56638153,  0.        ,  0.        ,  1.        ],\n",
       "       [-1.35915595,  1.        ,  0.        ,  0.        ],\n",
       "       [-1.30289562,  1.        ,  0.        ,  0.        ],\n",
       "       [-1.35915595,  1.        ,  0.        ,  0.        ],\n",
       "       [ 0.38491447,  0.        ,  1.        ,  0.        ],\n",
       "       [ 0.32865413,  0.        ,  1.        ,  0.        ],\n",
       "       [-1.47167663,  1.        ,  0.        ,  0.        ],\n",
       "       [-1.19037495,  1.        ,  0.        ,  0.        ],\n",
       "       [ 0.27239379,  0.        ,  1.        ,  0.        ],\n",
       "       [-1.30289562,  1.        ,  0.        ,  0.        ],\n",
       "       [ 1.73516253,  0.        ,  0.        ,  1.        ],\n",
       "       [-0.29020957,  0.        ,  1.        ,  0.        ],\n",
       "       [ 1.45386085,  0.        ,  0.        ,  1.        ],\n",
       "       [ 0.32865413,  0.        ,  1.        ,  0.        ],\n",
       "       [-1.30289562,  1.        ,  0.        ,  0.        ],\n",
       "       [ 0.55369548,  0.        ,  0.        ,  1.        ],\n",
       "       [-1.47167663,  1.        ,  0.        ,  0.        ],\n",
       "       [ 1.62264186,  0.        ,  0.        ,  1.        ],\n",
       "       [-1.30289562,  1.        ,  0.        ,  0.        ],\n",
       "       [-1.24663528,  1.        ,  0.        ,  0.        ],\n",
       "       [ 1.28507985,  0.        ,  0.        ,  1.        ],\n",
       "       [-1.35915595,  1.        ,  0.        ,  0.        ],\n",
       "       [ 1.00377816,  0.        ,  0.        ,  1.        ],\n",
       "       [ 0.15987312,  0.        ,  1.        ,  0.        ],\n",
       "       [ 0.04735245,  0.        ,  1.        ,  0.        ],\n",
       "       [-0.1776889 ,  0.        ,  1.        ,  0.        ],\n",
       "       [ 0.83499716,  0.        ,  0.        ,  1.        ],\n",
       "       [ 0.77873682,  0.        ,  0.        ,  1.        ],\n",
       "       [ 0.60995581,  0.        ,  1.        ,  0.        ],\n",
       "       [ 0.66621615,  0.        ,  1.        ,  0.        ],\n",
       "       [-1.24663528,  1.        ,  0.        ,  0.        ],\n",
       "       [-0.06516822,  0.        ,  1.        ,  0.        ],\n",
       "       [ 1.00377816,  0.        ,  0.        ,  1.        ],\n",
       "       [ 0.72247648,  0.        ,  0.        ,  1.        ],\n",
       "       [-1.30289562,  1.        ,  0.        ,  0.        ],\n",
       "       [ 0.4411748 ,  0.        ,  1.        ,  0.        ],\n",
       "       [ 0.15987312,  0.        ,  1.        ,  0.        ],\n",
       "       [ 0.55369548,  0.        ,  1.        ,  0.        ],\n",
       "       [ 0.32865413,  0.        ,  1.        ,  0.        ],\n",
       "       [-1.41541629,  1.        ,  0.        ,  0.        ],\n",
       "       [-1.30289562,  1.        ,  0.        ,  0.        ],\n",
       "       [-1.30289562,  1.        ,  0.        ,  0.        ],\n",
       "       [ 1.00377816,  0.        ,  0.        ,  1.        ],\n",
       "       [ 0.15987312,  0.        ,  1.        ,  0.        ],\n",
       "       [ 1.62264186,  0.        ,  0.        ,  1.        ],\n",
       "       [-1.35915595,  1.        ,  0.        ,  0.        ]])"
      ]
     },
     "execution_count": 10,
     "metadata": {},
     "output_type": "execute_result"
    }
   ],
   "source": [
    "X_train_transf"
   ]
  },
  {
   "cell_type": "code",
   "execution_count": 11,
   "metadata": {},
   "outputs": [
    {
     "data": {
      "text/plain": [
       "Lasso(alpha=0.1, copy_X=True, fit_intercept=True, max_iter=1000,\n",
       "      normalize=False, positive=False, precompute=False, random_state=None,\n",
       "      selection='cyclic', tol=0.0001, warm_start=False)"
      ]
     },
     "execution_count": 11,
     "metadata": {},
     "output_type": "execute_result"
    }
   ],
   "source": [
    "from sklearn.linear_model import Lasso\n",
    "lasso_reg_transf = Lasso(alpha = 0.1)\n",
    "lasso_reg_transf.fit(X_train_transf, y_train)"
   ]
  },
  {
   "cell_type": "code",
   "execution_count": 12,
   "metadata": {},
   "outputs": [
    {
     "data": {
      "text/plain": [
       "array([ 0.64755844, -0.        , -0.        ,  0.        ])"
      ]
     },
     "execution_count": 12,
     "metadata": {},
     "output_type": "execute_result"
    }
   ],
   "source": [
    "lasso_reg_transf.coef_"
   ]
  },
  {
   "cell_type": "code",
   "execution_count": 13,
   "metadata": {},
   "outputs": [
    {
     "data": {
      "text/plain": [
       "array([[5.5, 2. ],\n",
       "       [4.5, 1. ],\n",
       "       [1.5, 0. ],\n",
       "       [4.9, 2. ],\n",
       "       [5.6, 2. ],\n",
       "       [3.9, 1. ],\n",
       "       [1.7, 0. ],\n",
       "       [5.1, 1. ],\n",
       "       [4.2, 1. ],\n",
       "       [4. , 1. ],\n",
       "       [5.5, 2. ],\n",
       "       [1.3, 0. ],\n",
       "       [5.1, 2. ],\n",
       "       [1.6, 0. ],\n",
       "       [1.5, 0. ],\n",
       "       [3.5, 1. ],\n",
       "       [5.5, 2. ],\n",
       "       [5.7, 2. ],\n",
       "       [5. , 2. ],\n",
       "       [5.8, 2. ],\n",
       "       [3.9, 1. ],\n",
       "       [6.1, 2. ],\n",
       "       [4.7, 1. ],\n",
       "       [3.8, 1. ],\n",
       "       [4.9, 2. ],\n",
       "       [5.1, 2. ],\n",
       "       [4.5, 2. ],\n",
       "       [5. , 2. ],\n",
       "       [4.7, 1. ],\n",
       "       [5.2, 2. ],\n",
       "       [4.5, 1. ],\n",
       "       [1.6, 0. ],\n",
       "       [5.1, 2. ],\n",
       "       [4.2, 1. ],\n",
       "       [3.6, 1. ],\n",
       "       [4. , 1. ],\n",
       "       [4.6, 1. ],\n",
       "       [6. , 2. ],\n",
       "       [1.5, 0. ],\n",
       "       [1.1, 0. ],\n",
       "       [5.3, 2. ],\n",
       "       [4.2, 1. ],\n",
       "       [1.7, 0. ],\n",
       "       [1.5, 0. ],\n",
       "       [4.9, 1. ],\n",
       "       [1.5, 0. ],\n",
       "       [5.1, 2. ],\n",
       "       [3. , 1. ],\n",
       "       [1.4, 0. ],\n",
       "       [4.5, 1. ],\n",
       "       [6.1, 2. ],\n",
       "       [4.2, 1. ],\n",
       "       [1.4, 0. ],\n",
       "       [5.9, 2. ],\n",
       "       [5.7, 2. ],\n",
       "       [5.8, 2. ],\n",
       "       [5.6, 2. ],\n",
       "       [1.6, 0. ],\n",
       "       [1.6, 0. ],\n",
       "       [5.1, 2. ],\n",
       "       [5.7, 2. ],\n",
       "       [1.3, 0. ],\n",
       "       [5.4, 2. ],\n",
       "       [1.4, 0. ],\n",
       "       [5. , 2. ],\n",
       "       [5.4, 2. ],\n",
       "       [1.3, 0. ],\n",
       "       [1.4, 0. ],\n",
       "       [5.8, 2. ],\n",
       "       [1.4, 0. ],\n",
       "       [1.3, 0. ],\n",
       "       [1.7, 0. ],\n",
       "       [4. , 1. ],\n",
       "       [5.9, 2. ],\n",
       "       [6.6, 2. ],\n",
       "       [1.4, 0. ],\n",
       "       [1.5, 0. ],\n",
       "       [1.4, 0. ],\n",
       "       [4.5, 1. ],\n",
       "       [4.4, 1. ],\n",
       "       [1.2, 0. ],\n",
       "       [1.7, 0. ],\n",
       "       [4.3, 1. ],\n",
       "       [1.5, 0. ],\n",
       "       [6.9, 2. ],\n",
       "       [3.3, 1. ],\n",
       "       [6.4, 2. ],\n",
       "       [4.4, 1. ],\n",
       "       [1.5, 0. ],\n",
       "       [4.8, 2. ],\n",
       "       [1.2, 0. ],\n",
       "       [6.7, 2. ],\n",
       "       [1.5, 0. ],\n",
       "       [1.6, 0. ],\n",
       "       [6.1, 2. ],\n",
       "       [1.4, 0. ],\n",
       "       [5.6, 2. ],\n",
       "       [4.1, 1. ],\n",
       "       [3.9, 1. ],\n",
       "       [3.5, 1. ],\n",
       "       [5.3, 2. ],\n",
       "       [5.2, 2. ],\n",
       "       [4.9, 1. ],\n",
       "       [5. , 1. ],\n",
       "       [1.6, 0. ],\n",
       "       [3.7, 1. ],\n",
       "       [5.6, 2. ],\n",
       "       [5.1, 2. ],\n",
       "       [1.5, 0. ],\n",
       "       [4.6, 1. ],\n",
       "       [4.1, 1. ],\n",
       "       [4.8, 1. ],\n",
       "       [4.4, 1. ],\n",
       "       [1.3, 0. ],\n",
       "       [1.5, 0. ],\n",
       "       [1.5, 0. ],\n",
       "       [5.6, 2. ],\n",
       "       [4.1, 1. ],\n",
       "       [6.7, 2. ],\n",
       "       [1.4, 0. ]])"
      ]
     },
     "execution_count": 13,
     "metadata": {},
     "output_type": "execute_result"
    }
   ],
   "source": [
    "X_train"
   ]
  },
  {
   "cell_type": "code",
   "execution_count": 14,
   "metadata": {},
   "outputs": [
    {
     "data": {
      "image/png": "[encoded data removed]",
      "text/plain": [
       "<Figure size 432x288 with 1 Axes>"
      ]
     },
     "metadata": {
      "needs_background": "light"
     },
     "output_type": "display_data"
    }
   ],
   "source": [
    "# L2 regularization\n",
    "from sklearn.linear_model import Ridge\n",
    "ridge_reg = Ridge(alpha = 0.1,# larger is stronger\n",
    "                fit_intercept = True,\n",
    "                normalize = False,\n",
    "                copy_X = True,\n",
    "                max_iter = 1000,\n",
    "                tol = 1e-3,\n",
    "                solver = \"auto\",\n",
    "                random_state = 0)# for sag solver\n",
    "\n",
    "ridge_reg.fit(X_train, y_train)\n",
    "\n",
    "plt.scatter(X_train[:, 0], y_train, c=X_train[:, 1])\n",
    "cs = [\"purple\",\"blue\",\"orange\"]\n",
    "for i in range(3):\n",
    "    xs = np.c_[np.linspace(1,7,20),i*np.ones(20)]\n",
    "    plt.plot(xs[:,0],ridge_reg.predict(xs),label=\"class \"+str(i),c=cs[i])\n",
    "\n",
    "plt.xlabel(data[\"feature_names\"][2])\n",
    "plt.ylabel(data[\"feature_names\"][3])\n",
    "plt.title(\"Petal width Ridge\")\n",
    "plt.ylim(0,3)\n",
    "plt.xlim(1,7)\n",
    "plt.legend()\n",
    "plt.show()\n",
    "#Have separation from classes again"
   ]
  },
  {
   "cell_type": "code",
   "execution_count": 15,
   "metadata": {},
   "outputs": [
    {
     "data": {
      "text/plain": [
       "array([0.25600827, 0.36942359])"
      ]
     },
     "execution_count": 15,
     "metadata": {},
     "output_type": "execute_result"
    }
   ],
   "source": [
    "ridge_reg.coef_"
   ]
  },
  {
   "cell_type": "code",
   "execution_count": 16,
   "metadata": {},
   "outputs": [
    {
     "data": {
      "image/png": "[encoded data removed]",
      "text/plain": [
       "<Figure size 432x288 with 1 Axes>"
      ]
     },
     "metadata": {
      "needs_background": "light"
     },
     "output_type": "display_data"
    },
    {
     "data": {
      "text/plain": [
       "0.8807141093071915"
      ]
     },
     "execution_count": 16,
     "metadata": {},
     "output_type": "execute_result"
    }
   ],
   "source": [
    "# L1 + L2 regularization\n",
    "from sklearn.linear_model import ElasticNet\n",
    "en_reg = ElasticNet(alpha = 0.1,# larger is stronger\n",
    "                  l1_ratio = 0.5,\n",
    "                    fit_intercept = True,\n",
    "                    normalize = False,\n",
    "                    precompute = False,\n",
    "                    copy_X = True,\n",
    "                    max_iter = 1000,\n",
    "                    tol = 1e-3,\n",
    "                    warm_start = False,\n",
    "                    positive = False,\n",
    "                    selection = \"cyclic\",\n",
    "                    random_state = 0 # for random selection\n",
    "                 )\n",
    "\n",
    "en_reg.fit(X_train, y_train)\n",
    "\n",
    "plt.scatter(X_train[:, 0], y_train, c=X_train[:, 1])\n",
    "cs = [\"purple\",\"blue\",\"orange\"]\n",
    "for i in range(3):\n",
    "    xs = np.c_[np.linspace(1,7,20),i*np.ones(20)]\n",
    "    plt.plot(xs[:,0],en_reg.predict(xs),label=\"class \"+str(i),c=cs[i])``\n",
    "\n",
    "plt.xlabel(data[\"feature_names\"][2])\n",
    "plt.ylabel(data[\"feature_names\"][3])\n",
    "plt.title(\"Petal width ElasticNet\")\n",
    "plt.ylim(0,3)\n",
    "plt.xlim(1,7)\n",
    "plt.legend()\n",
    "plt.show()\n",
    "\n",
    "en_reg.score(X_test,y_test)"
   ]
  },
  {
   "cell_type": "code",
   "execution_count": 18,
   "metadata": {},
   "outputs": [
    {
     "data": {
      "text/plain": [
       "array([0.38231094, 0.03716131])"
      ]
     },
     "execution_count": 18,
     "metadata": {},
     "output_type": "execute_result"
    }
   ],
   "source": [
    "en_reg.coef_"
   ]
  },
  {
   "cell_type": "code",
   "execution_count": 17,
   "metadata": {},
   "outputs": [
    {
     "data": {
      "text/plain": [
       "0.8807141093071915"
      ]
     },
     "execution_count": 17,
     "metadata": {},
     "output_type": "execute_result"
    }
   ],
   "source": [
    "from sklearn.metrics import r2_score # ccoefficient of determination\n",
    "r2_score(y_true = y_test,\n",
    "        y_pred = en_reg.predict(X_test),\n",
    "        sample_weight = None,# size (n_samples,) if we want specific sample weights\n",
    "        multioutput = \"uniform_average\")"
   ]
  },
  {
   "cell_type": "code",
   "execution_count": null,
   "metadata": {},
   "outputs": [],
   "source": []
  }
 ],
 "metadata": {
  "kernelspec": {
   "display_name": "Python 3",
   "language": "python",
   "name": "python3"
  },
  "language_info": {
   "codemirror_mode": {
    "name": "ipython",
    "version": 3
   },
   "file_extension": ".py",
   "mimetype": "text/x-python",
   "name": "python",
   "nbconvert_exporter": "python",
   "pygments_lexer": "ipython3",
   "version": "3.7.6"
  }
 },
 "nbformat": 4,
 "nbformat_minor": 4
}
