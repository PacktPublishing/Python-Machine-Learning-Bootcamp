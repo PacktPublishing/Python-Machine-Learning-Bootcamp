{
 "cells": [
  {
   "cell_type": "code",
   "execution_count": 1,
   "metadata": {},
   "outputs": [],
   "source": [
    "import pandas as pd\n",
    "import numpy as np\n",
    "import matplotlib.pyplot as plt\n",
    "\n",
    "from sklearn.datasets import fetch_openml\n",
    "from sklearn.model_selection import StratifiedShuffleSplit\n",
    "from sklearn.tree import DecisionTreeClassifier\n",
    "\n",
    "data = fetch_openml('mnist_784', version=1)#Get data from https://www.openml.org/d/554\n",
    "dfData = pd.DataFrame(np.c_[data[\"data\"],data[\"target\"]],columns = data[\"feature_names\"]+[\"target\"])"
   ]
  },
  {
   "cell_type": "code",
   "execution_count": 2,
   "metadata": {},
   "outputs": [],
   "source": [
    "stratSplit = StratifiedShuffleSplit(n_splits=1, test_size=0.2, random_state=0)\n",
    "\n",
    "for train_index, test_index in stratSplit.split(dfData[data[\"feature_names\"]], dfData[\"target\"]):\n",
    "    X_train = dfData[data[\"feature_names\"]].iloc[train_index]\n",
    "    X_test = dfData[data[\"feature_names\"]].iloc[test_index]\n",
    "    \n",
    "    y_train = dfData[\"target\"].iloc[train_index]\n",
    "    y_test = dfData[\"target\"].iloc[test_index]"
   ]
  },
  {
   "cell_type": "code",
   "execution_count": 3,
   "metadata": {},
   "outputs": [
    {
     "data": {
      "text/plain": [
       "GradientBoostingClassifier(ccp_alpha=0.0, criterion='friedman_mse', init=None,\n",
       "                           learning_rate=0.1, loss='deviance', max_depth=3,\n",
       "                           max_features=None, max_leaf_nodes=None,\n",
       "                           min_impurity_decrease=0.0, min_impurity_split=None,\n",
       "                           min_samples_leaf=1, min_samples_split=2,\n",
       "                           min_weight_fraction_leaf=0.0, n_estimators=30,\n",
       "                           n_iter_no_change=None, presort='deprecated',\n",
       "                           random_state=0, subsample=0.9, tol=0.0001,\n",
       "                           validation_fraction=0.1, verbose=0,\n",
       "                           warm_start=False)"
      ]
     },
     "execution_count": 3,
     "metadata": {},
     "output_type": "execute_result"
    }
   ],
   "source": [
    "from sklearn.ensemble import GradientBoostingClassifier\n",
    "\n",
    "# For classification, regression trees are still used to perform fitting on residuals\n",
    "grad_boost_clf = GradientBoostingClassifier(n_estimators=30,\n",
    "                                          loss='deviance', # 2*neg. log. likelihood\n",
    "                                                           # loss determines how residuals are calculated, residuals\n",
    "                                                           # are the negative gradient of the loss\n",
    "                                          learning_rate=0.1,\n",
    "                                          subsample=0.9,# bagging\n",
    "                                          criterion='friedman_mse', # decision tree splitting criterion\n",
    "                                          random_state=0 # random state for Grad. Boost. Ensemble\n",
    "                                          # additional decision tree parameters\n",
    "                                         )\n",
    "\n",
    "grad_boost_clf.fit(X_train, y_train)"
   ]
  },
  {
   "cell_type": "code",
   "execution_count": 4,
   "metadata": {},
   "outputs": [
    {
     "name": "stdout",
     "output_type": "stream",
     "text": [
      "(30, 10)\n",
      "(30,)\n",
      "(30,)\n",
      "(784,)\n"
     ]
    }
   ],
   "source": [
    "print(grad_boost_clf.estimators_.shape) # (n_estimators, n_classes)\n",
    "                                        # estimators at each stage for each class (if multiclass problem)\n",
    "print(grad_boost_clf.train_score_.shape) # loss at each estimator in the ensemble for in-bag data, or training date\n",
    "                                         # if subsamples=1\n",
    "print(grad_boost_clf.oob_improvement_.shape) # available if we have subsample<1, loss improvements of oob samples\n",
    "                                             # compared to previous stage\n",
    "print(grad_boost_clf.feature_importances_.shape)"
   ]
  },
  {
   "cell_type": "code",
   "execution_count": 5,
   "metadata": {},
   "outputs": [
    {
     "data": {
      "text/plain": [
       "0.901"
      ]
     },
     "execution_count": 5,
     "metadata": {},
     "output_type": "execute_result"
    }
   ],
   "source": [
    "grad_boost_clf.score(X_test, y_test)"
   ]
  },
  {
   "cell_type": "code",
   "execution_count": 6,
   "metadata": {},
   "outputs": [
    {
     "name": "stdout",
     "output_type": "stream",
     "text": [
      "stage:  1 stage predictions: ['0' '0' '9' ... '5' '2' '7'] staged_score: 0.6671 14000\n",
      "stage:  2 stage predictions: ['0' '0' '9' ... '5' '2' '7'] staged_score: 0.7359 14000\n",
      "stage:  3 stage predictions: ['0' '0' '9' ... '5' '2' '7'] staged_score: 0.7588 14000\n",
      "stage:  4 stage predictions: ['0' '0' '9' ... '5' '2' '7'] staged_score: 0.7783 14000\n",
      "stage:  5 stage predictions: ['0' '0' '4' ... '5' '2' '7'] staged_score: 0.7949 14000\n",
      "stage:  6 stage predictions: ['0' '0' '4' ... '5' '2' '7'] staged_score: 0.8070 14000\n",
      "stage:  7 stage predictions: ['0' '0' '4' ... '5' '2' '7'] staged_score: 0.8149 14000\n",
      "stage:  8 stage predictions: ['0' '0' '4' ... '5' '2' '7'] staged_score: 0.8250 14000\n",
      "stage:  9 stage predictions: ['0' '0' '4' ... '5' '2' '7'] staged_score: 0.8327 14000\n",
      "stage: 10 stage predictions: ['0' '0' '4' ... '5' '2' '7'] staged_score: 0.8389 14000\n",
      "stage: 11 stage predictions: ['0' '0' '4' ... '5' '2' '7'] staged_score: 0.8436 14000\n",
      "stage: 12 stage predictions: ['0' '0' '4' ... '5' '2' '7'] staged_score: 0.8521 14000\n",
      "stage: 13 stage predictions: ['0' '0' '4' ... '5' '2' '7'] staged_score: 0.8561 14000\n",
      "stage: 14 stage predictions: ['0' '0' '4' ... '5' '2' '7'] staged_score: 0.8601 14000\n",
      "stage: 15 stage predictions: ['0' '0' '4' ... '5' '2' '7'] staged_score: 0.8629 14000\n",
      "stage: 16 stage predictions: ['0' '0' '4' ... '5' '2' '7'] staged_score: 0.8658 14000\n",
      "stage: 17 stage predictions: ['0' '0' '4' ... '5' '2' '7'] staged_score: 0.8689 14000\n",
      "stage: 18 stage predictions: ['0' '0' '4' ... '5' '2' '7'] staged_score: 0.8718 14000\n",
      "stage: 19 stage predictions: ['0' '0' '4' ... '5' '2' '7'] staged_score: 0.8759 14000\n",
      "stage: 20 stage predictions: ['0' '0' '4' ... '5' '2' '7'] staged_score: 0.8789 14000\n",
      "stage: 21 stage predictions: ['0' '0' '4' ... '5' '2' '7'] staged_score: 0.8814 14000\n",
      "stage: 22 stage predictions: ['0' '0' '4' ... '5' '2' '7'] staged_score: 0.8831 14000\n",
      "stage: 23 stage predictions: ['0' '0' '4' ... '5' '2' '7'] staged_score: 0.8869 14000\n",
      "stage: 24 stage predictions: ['0' '0' '4' ... '5' '2' '7'] staged_score: 0.8879 14000\n",
      "stage: 25 stage predictions: ['0' '0' '4' ... '5' '2' '7'] staged_score: 0.8910 14000\n",
      "stage: 26 stage predictions: ['0' '0' '4' ... '5' '2' '7'] staged_score: 0.8929 14000\n",
      "stage: 27 stage predictions: ['0' '0' '4' ... '5' '2' '7'] staged_score: 0.8944 14000\n",
      "stage: 28 stage predictions: ['0' '0' '4' ... '5' '2' '7'] staged_score: 0.8966 14000\n",
      "stage: 29 stage predictions: ['0' '0' '4' ... '5' '2' '7'] staged_score: 0.8990 14000\n",
      "stage: 30 stage predictions: ['0' '0' '4' ... '5' '2' '7'] staged_score: 0.9010 14000\n"
     ]
    }
   ],
   "source": [
    "from sklearn.metrics import accuracy_score\n",
    "#resulting final prediction at each stage of the estimator\n",
    "stage = 1\n",
    "for stage_pred in grad_boost_clf.staged_predict(X_test):\n",
    "    print('stage:',\"{0:2d}\".format(stage),\n",
    "          'stage predictions:',stage_pred,\n",
    "          # staged score doesn't exist internally\n",
    "          'staged_score:',\"{0:.4f}\".format(accuracy_score(y_pred=stage_pred,y_true=y_test)),\n",
    "          len(stage_pred))\n",
    "    stage += 1"
   ]
  },
  {
   "cell_type": "code",
   "execution_count": null,
   "metadata": {},
   "outputs": [],
   "source": []
  }
 ],
 "metadata": {
  "kernelspec": {
   "display_name": "Python 3",
   "language": "python",
   "name": "python3"
  },
  "language_info": {
   "codemirror_mode": {
    "name": "ipython",
    "version": 3
   },
   "file_extension": ".py",
   "mimetype": "text/x-python",
   "name": "python",
   "nbconvert_exporter": "python",
   "pygments_lexer": "ipython3",
   "version": "3.7.6"
  }
 },
 "nbformat": 4,
 "nbformat_minor": 2
}
