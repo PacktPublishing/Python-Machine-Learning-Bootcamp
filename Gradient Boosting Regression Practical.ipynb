{
 "cells": [
  {
   "cell_type": "code",
   "execution_count": 1,
   "metadata": {},
   "outputs": [],
   "source": [
    "import pandas as pd\n",
    "import numpy as np\n",
    "import matplotlib.pyplot as plt\n",
    "\n",
    "from sklearn.datasets import load_boston\n",
    "from sklearn.model_selection import train_test_split\n",
    "from sklearn.tree import DecisionTreeRegressor\n",
    "from sklearn.pipeline import Pipeline\n",
    "from sklearn.preprocessing import StandardScaler\n",
    "\n",
    "data = load_boston()\n",
    "data.keys()\n",
    "\n",
    "X, y = data[\"data\"], data[\"target\"]\n",
    "\n",
    "X_train, X_test, y_train, y_test = train_test_split(X, y, test_size=0.2, random_state=0)\n",
    "\n",
    "pipe = Pipeline([('std_scl',StandardScaler())])\n",
    "X_train = pipe.fit_transform(X_train)\n",
    "X_test = pipe.transform(X_test)\n",
    "\n",
    "X_train = pd.DataFrame(X_train,columns=data[\"feature_names\"])\n",
    "X_test = pd.DataFrame(X_test,columns=data[\"feature_names\"])\n",
    "y_train = pd.DataFrame(y_train,columns=[\"target\"])\n",
    "y_test = pd.DataFrame(y_test,columns=[\"target\"])"
   ]
  },
  {
   "cell_type": "code",
   "execution_count": 2,
   "metadata": {},
   "outputs": [
    {
     "name": "stderr",
     "output_type": "stream",
     "text": [
      "/Users/maxschallwig/opt/anaconda3/lib/python3.7/site-packages/sklearn/ensemble/_gb.py:1454: DataConversionWarning: A column-vector y was passed when a 1d array was expected. Please change the shape of y to (n_samples, ), for example using ravel().\n",
      "  y = column_or_1d(y, warn=True)\n"
     ]
    },
    {
     "data": {
      "text/plain": [
       "GradientBoostingRegressor(alpha=0.9, ccp_alpha=0.0, criterion='friedman_mse',\n",
       "                          init=None, learning_rate=0.1, loss='ls', max_depth=3,\n",
       "                          max_features=None, max_leaf_nodes=None,\n",
       "                          min_impurity_decrease=0.0, min_impurity_split=None,\n",
       "                          min_samples_leaf=1, min_samples_split=2,\n",
       "                          min_weight_fraction_leaf=0.0, n_estimators=30,\n",
       "                          n_iter_no_change=None, presort='deprecated',\n",
       "                          random_state=0, subsample=0.9, tol=0.0001,\n",
       "                          validation_fraction=0.1, verbose=0, warm_start=False)"
      ]
     },
     "execution_count": 2,
     "metadata": {},
     "output_type": "execute_result"
    }
   ],
   "source": [
    "from sklearn.ensemble import GradientBoostingRegressor\n",
    "\n",
    "grad_boost_reg = GradientBoostingRegressor(loss='ls',\n",
    "                                         n_estimators=30,\n",
    "                                         learning_rate=0.1,\n",
    "                                         subsample=0.9,#bagging\n",
    "                                         criterion='friedman_mse',# splitting criterion decision trees\n",
    "                                         random_state=0 # random state for Grad. Boost. Ensemble\n",
    "                                         # additional decision tree parameters\n",
    "                                        )\n",
    "\n",
    "grad_boost_reg.fit(X_train, y_train)"
   ]
  },
  {
   "cell_type": "code",
   "execution_count": 6,
   "metadata": {},
   "outputs": [
    {
     "name": "stdout",
     "output_type": "stream",
     "text": [
      "30\n",
      "30\n",
      "30\n",
      "13\n"
     ]
    }
   ],
   "source": [
    "print(len(grad_boost_reg.estimators_)) # fitted estimators for each stage\n",
    "print(len(grad_boost_reg.train_score_)) # loss at each estimator in the ensemble for in-bag data,\n",
    "                                              # or training date if subsamples=1\n",
    "print(len(grad_boost_reg.oob_improvement_)) # available if we have subsample<1, loss improvements of oob samples\n",
    "                                                  # compared to previous stage\n",
    "print(len(grad_boost_reg.feature_importances_))"
   ]
  },
  {
   "cell_type": "code",
   "execution_count": 4,
   "metadata": {},
   "outputs": [
    {
     "data": {
      "text/plain": [
       "0.7626850807121547"
      ]
     },
     "execution_count": 4,
     "metadata": {},
     "output_type": "execute_result"
    }
   ],
   "source": [
    "grad_boost_reg.score(X_test, y_test)"
   ]
  },
  {
   "cell_type": "code",
   "execution_count": 5,
   "metadata": {},
   "outputs": [
    {
     "name": "stdout",
     "output_type": "stream",
     "text": [
      "stage:  1 staged_score: 0.1158\n",
      "stage:  2 staged_score: 0.2128\n",
      "stage:  3 staged_score: 0.3253\n",
      "stage:  4 staged_score: 0.3965\n",
      "stage:  5 staged_score: 0.4687\n",
      "stage:  6 staged_score: 0.5258\n",
      "stage:  7 staged_score: 0.5590\n",
      "stage:  8 staged_score: 0.5978\n",
      "stage:  9 staged_score: 0.6300\n",
      "stage: 10 staged_score: 0.6502\n",
      "stage: 11 staged_score: 0.6703\n",
      "stage: 12 staged_score: 0.6994\n",
      "stage: 13 staged_score: 0.7147\n",
      "stage: 14 staged_score: 0.7240\n",
      "stage: 15 staged_score: 0.7305\n",
      "stage: 16 staged_score: 0.7334\n",
      "stage: 17 staged_score: 0.7375\n",
      "stage: 18 staged_score: 0.7421\n",
      "stage: 19 staged_score: 0.7465\n",
      "stage: 20 staged_score: 0.7537\n",
      "stage: 21 staged_score: 0.7551\n",
      "stage: 22 staged_score: 0.7563\n",
      "stage: 23 staged_score: 0.7574\n",
      "stage: 24 staged_score: 0.7579\n",
      "stage: 25 staged_score: 0.7599\n",
      "stage: 26 staged_score: 0.7594\n",
      "stage: 27 staged_score: 0.7623\n",
      "stage: 28 staged_score: 0.7626\n",
      "stage: 29 staged_score: 0.7620\n",
      "stage: 30 staged_score: 0.7627\n"
     ]
    }
   ],
   "source": [
    "from sklearn.metrics import r2_score\n",
    "stage = 1\n",
    "for stage_pred in grad_boost_reg.staged_predict(X_test):\n",
    "    print('stage:',\"{0:2d}\".format(stage),\n",
    "          'staged_score: {0:.4f}'.format(r2_score(y_pred=stage_pred,y_true=y_test)))\n",
    "    stage += 1"
   ]
  },
  {
   "cell_type": "code",
   "execution_count": null,
   "metadata": {},
   "outputs": [],
   "source": []
  }
 ],
 "metadata": {
  "kernelspec": {
   "display_name": "Python 3",
   "language": "python",
   "name": "python3"
  },
  "language_info": {
   "codemirror_mode": {
    "name": "ipython",
    "version": 3
   },
   "file_extension": ".py",
   "mimetype": "text/x-python",
   "name": "python",
   "nbconvert_exporter": "python",
   "pygments_lexer": "ipython3",
   "version": "3.7.6"
  }
 },
 "nbformat": 4,
 "nbformat_minor": 2
}
