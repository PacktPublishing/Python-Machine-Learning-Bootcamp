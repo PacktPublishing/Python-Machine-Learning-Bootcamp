{
 "cells": [
  {
   "cell_type": "code",
   "execution_count": 1,
   "metadata": {},
   "outputs": [],
   "source": [
    "import pandas as pd\n",
    "import numpy as np\n",
    "import matplotlib.pyplot as plt\n",
    "\n",
    "from sklearn.datasets import fetch_openml\n",
    "from sklearn.model_selection import StratifiedShuffleSplit\n",
    "from sklearn.linear_model import LogisticRegression\n",
    "from sklearn.tree import DecisionTreeClassifier\n",
    "from sklearn.naive_bayes import GaussianNB\n",
    "\n",
    "data= fetch_openml('mnist_784', version=1)#Get data from https://www.openml.org/d/554\n",
    "dfData = pd.DataFrame(np.c_[data[\"data\"],data[\"target\"]],columns = data[\"feature_names\"]+[\"target\"])"
   ]
  },
  {
   "cell_type": "code",
   "execution_count": 2,
   "metadata": {},
   "outputs": [],
   "source": [
    "stratSplit = StratifiedShuffleSplit(n_splits=1, test_size=0.2, random_state=0)\n",
    "\n",
    "for train_index, test_index in stratSplit.split(dfData[data[\"feature_names\"]], dfData[\"target\"]):\n",
    "    X_train = dfData[data[\"feature_names\"]].iloc[train_index]\n",
    "    X_test = dfData[data[\"feature_names\"]].iloc[test_index]\n",
    "    \n",
    "    y_train = dfData[\"target\"].iloc[train_index]\n",
    "    y_test = dfData[\"target\"].iloc[test_index]"
   ]
  },
  {
   "cell_type": "code",
   "execution_count": 3,
   "metadata": {},
   "outputs": [
    {
     "data": {
      "text/plain": [
       "VotingClassifier(estimators=[('dec_tree_0',\n",
       "                              DecisionTreeClassifier(ccp_alpha=0.0,\n",
       "                                                     class_weight=None,\n",
       "                                                     criterion='gini',\n",
       "                                                     max_depth=3,\n",
       "                                                     max_features='sqrt',\n",
       "                                                     max_leaf_nodes=None,\n",
       "                                                     min_impurity_decrease=0.0,\n",
       "                                                     min_impurity_split=None,\n",
       "                                                     min_samples_leaf=1,\n",
       "                                                     min_samples_split=2,\n",
       "                                                     min_weight_fraction_leaf=0.0,\n",
       "                                                     presort='deprecated',\n",
       "                                                     random_state=None,\n",
       "                                                     splitter='random')),\n",
       "                             ('dec_...\n",
       "                              DecisionTreeClassifier(ccp_alpha=0.0,\n",
       "                                                     class_weight=None,\n",
       "                                                     criterion='gini',\n",
       "                                                     max_depth=3,\n",
       "                                                     max_features='sqrt',\n",
       "                                                     max_leaf_nodes=None,\n",
       "                                                     min_impurity_decrease=0.0,\n",
       "                                                     min_impurity_split=None,\n",
       "                                                     min_samples_leaf=1,\n",
       "                                                     min_samples_split=2,\n",
       "                                                     min_weight_fraction_leaf=0.0,\n",
       "                                                     presort='deprecated',\n",
       "                                                     random_state=None,\n",
       "                                                     splitter='random'))],\n",
       "                 flatten_transform=True, n_jobs=2, voting='hard', weights=None)"
      ]
     },
     "execution_count": 3,
     "metadata": {},
     "output_type": "execute_result"
    }
   ],
   "source": [
    "from sklearn.ensemble import VotingClassifier\n",
    "\n",
    "ests = []\n",
    "for i in range(10):\n",
    "    ests.append((f'dec_tree_{i}',DecisionTreeClassifier(max_depth=3,\n",
    "                                                      max_features='sqrt',\n",
    "                                                      splitter='random')))\n",
    "vote_clf = VotingClassifier(estimators=ests,\n",
    "                          voting='hard', # soft\n",
    "                          weights=None, # weights for each classifier as a list\n",
    "                                        # a good way to get weights is to base them off of relative performance\n",
    "                                        # in previous CV runs\n",
    "                          n_jobs=2,\n",
    "                          flatten_transform=True # only relevant for soft voting, affects output shape\n",
    "                          )\n",
    "\n",
    "vote_clf.fit(X_train, y_train)"
   ]
  },
  {
   "cell_type": "code",
   "execution_count": 4,
   "metadata": {},
   "outputs": [
    {
     "name": "stdout",
     "output_type": "stream",
     "text": [
      "dec_tree_0: 0.358\n",
      "dec_tree_1: 0.335\n",
      "dec_tree_2: 0.369\n",
      "dec_tree_3: 0.384\n",
      "dec_tree_4: 0.353\n",
      "dec_tree_5: 0.373\n",
      "dec_tree_6: 0.383\n",
      "dec_tree_7: 0.368\n",
      "dec_tree_8: 0.334\n",
      "dec_tree_9: 0.37\n",
      "Voting classifier: 0.527\n"
     ]
    }
   ],
   "source": [
    "for estimator,est_name in zip(vote_clf.estimators_,vote_clf.named_estimators_):\n",
    "    print(f'{est_name}:',round(estimator.score(X_test,y_test.astype(int)),3))\n",
    "print('Voting classifier:',round(vote_clf.score(X_test,y_test),3))"
   ]
  },
  {
   "cell_type": "code",
   "execution_count": 5,
   "metadata": {},
   "outputs": [
    {
     "data": {
      "text/plain": [
       "VotingClassifier(estimators=[('log_reg',\n",
       "                              LogisticRegression(C=1.0, class_weight=None,\n",
       "                                                 dual=False, fit_intercept=True,\n",
       "                                                 intercept_scaling=1,\n",
       "                                                 l1_ratio=None, max_iter=100,\n",
       "                                                 multi_class='auto',\n",
       "                                                 n_jobs=None, penalty='l2',\n",
       "                                                 random_state=None,\n",
       "                                                 solver='lbfgs', tol=0.0001,\n",
       "                                                 verbose=0, warm_start=False)),\n",
       "                             ('dec_tree',\n",
       "                              DecisionTreeClassifier(ccp_alpha=0.0,\n",
       "                                                     class_weight=None,\n",
       "                                                     criter...gini',\n",
       "                                                     max_depth=3,\n",
       "                                                     max_features=None,\n",
       "                                                     max_leaf_nodes=None,\n",
       "                                                     min_impurity_decrease=0.0,\n",
       "                                                     min_impurity_split=None,\n",
       "                                                     min_samples_leaf=1,\n",
       "                                                     min_samples_split=2,\n",
       "                                                     min_weight_fraction_leaf=0.0,\n",
       "                                                     presort='deprecated',\n",
       "                                                     random_state=None,\n",
       "                                                     splitter='best')),\n",
       "                             ('GaussianNB',\n",
       "                              GaussianNB(priors=None, var_smoothing=1e-09))],\n",
       "                 flatten_transform=True, n_jobs=2, voting='soft', weights=None)"
      ]
     },
     "execution_count": 5,
     "metadata": {},
     "output_type": "execute_result"
    }
   ],
   "source": [
    "vote_clf_soft = VotingClassifier(estimators=[\n",
    "                                        ('log_reg',LogisticRegression()),\n",
    "                                        ('dec_tree',DecisionTreeClassifier(max_depth=3)),\n",
    "                                        ('GaussianNB',GaussianNB())\n",
    "                                        ],\n",
    "                          voting='soft', # soft\n",
    "                          weights=None, # weights for each classifier as a list\n",
    "                          n_jobs=2,\n",
    "                          flatten_transform=True # only relevant for soft voting\n",
    "                          )\n",
    "\n",
    "vote_clf_soft.fit(X_train, y_train)"
   ]
  },
  {
   "cell_type": "code",
   "execution_count": 6,
   "metadata": {},
   "outputs": [
    {
     "name": "stdout",
     "output_type": "stream",
     "text": [
      "log_reg: 0.925\n",
      "dec_tree: 0.494\n",
      "GaussianNB: 0.55\n",
      "Soft voting classifier: 0.766\n"
     ]
    }
   ],
   "source": [
    "for estimator,est_name in zip(vote_clf_soft.estimators_,vote_clf_soft.named_estimators_):\n",
    "    print(f'{est_name}:',round(estimator.score(X_test,y_test.astype(int)),3))\n",
    "print('Soft voting classifier:',round(vote_clf_soft.score(X_test,y_test),3))"
   ]
  },
  {
   "cell_type": "code",
   "execution_count": 7,
   "metadata": {},
   "outputs": [
    {
     "data": {
      "image/png": "[encoded data removed]",
      "text/plain": [
       "<Figure size 1152x576 with 2 Axes>"
      ]
     },
     "metadata": {
      "needs_background": "light"
     },
     "output_type": "display_data"
    }
   ],
   "source": [
    "ind = 1\n",
    "\n",
    "probas = []\n",
    "for estimator,est_name in zip(vote_clf_soft.estimators_,vote_clf_soft.named_estimators_):\n",
    "    probas.append(estimator.predict_proba(X_test[ind:ind+1]))\n",
    "\n",
    "probas.append(vote_clf_soft.predict_proba(X_test[ind:ind+1]))\n",
    "\n",
    "pred_class = int(y_test.values[ind])\n",
    "fig = plt.figure(figsize=(16,8))\n",
    "ax = fig.add_subplot(121)\n",
    "i = 0\n",
    "w = 0.35\n",
    "for prob in probas:\n",
    "    predNot = 0\n",
    "    predIs = 0\n",
    "    for k in range(len(prob[0])):\n",
    "        if k == pred_class:\n",
    "            predIs += prob[0, k]\n",
    "        else:\n",
    "            predNot += prob[0, k]\n",
    "    if i == 0:\n",
    "        bars = plt.bar([i-w/2,i+w/2],height=[predIs,predNot],color=[\"green\",\"red\"],width=w,edgecolor='black')\n",
    "    else:\n",
    "        plt.bar([i-w/2,i+w/2],height=[predIs,predNot],color=[\"green\",\"red\"],width=w,edgecolor='black')\n",
    "\n",
    "    i +=1\n",
    "\n",
    "plt.xticks(range(len(probas)),['log_reg','dt_depth_3',\n",
    "                               'GaussianNB',\n",
    "                               'soft vote'])\n",
    "plt.title(f\"Predict class {pred_class} probas\")\n",
    "plt.legend([bars[0], bars[1]], [f'{pred_class}', f'not {pred_class}'])\n",
    "ax = fig.add_subplot(122)\n",
    "plt.imshow(X_test.iloc[ind].astype(int).values.reshape(28,-1),cmap=plt.get_cmap('gray_r'))\n",
    "plt.show()"
   ]
  },
  {
   "cell_type": "code",
   "execution_count": 8,
   "metadata": {},
   "outputs": [
    {
     "data": {
      "text/plain": [
       "[array([[9.99968177e-01, 3.82282577e-16, 1.31882908e-06, 6.98137424e-09,\n",
       "         2.11840545e-09, 2.91529443e-06, 9.51239969e-06, 3.62005840e-11,\n",
       "         1.80451475e-05, 2.21905320e-08]]),\n",
       " array([[0.75868726, 0.001755  , 0.07844858, 0.02650053, 0.00579151,\n",
       "         0.07704458, 0.03369603, 0.002457  , 0.01175851, 0.003861  ]]),\n",
       " array([[1.00000000e+000, 0.00000000e+000, 0.00000000e+000,\n",
       "         0.00000000e+000, 0.00000000e+000, 5.27376351e-310,\n",
       "         5.68545834e-286, 0.00000000e+000, 2.20643927e-140,\n",
       "         0.00000000e+000]]),\n",
       " array([[9.19551812e-01, 5.85000585e-04, 2.61499658e-02, 8.83351116e-03,\n",
       "         1.93050264e-03, 2.56824974e-02, 1.12351820e-02, 8.19000831e-04,\n",
       "         3.92551897e-03, 1.28700868e-03]])]"
      ]
     },
     "execution_count": 8,
     "metadata": {},
     "output_type": "execute_result"
    }
   ],
   "source": [
    "probas"
   ]
  },
  {
   "cell_type": "code",
   "execution_count": null,
   "metadata": {},
   "outputs": [],
   "source": []
  }
 ],
 "metadata": {
  "kernelspec": {
   "display_name": "Python 3",
   "language": "python",
   "name": "python3"
  },
  "language_info": {
   "codemirror_mode": {
    "name": "ipython",
    "version": 3
   },
   "file_extension": ".py",
   "mimetype": "text/x-python",
   "name": "python",
   "nbconvert_exporter": "python",
   "pygments_lexer": "ipython3",
   "version": "3.7.6"
  }
 },
 "nbformat": 4,
 "nbformat_minor": 2
}
