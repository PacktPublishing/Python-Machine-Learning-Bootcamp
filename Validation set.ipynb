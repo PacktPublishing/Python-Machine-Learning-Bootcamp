{
 "cells": [
  {
   "cell_type": "code",
   "execution_count": 1,
   "metadata": {},
   "outputs": [],
   "source": [
    "import pandas as pd\n",
    "import numpy as np\n",
    "import matplotlib.pyplot as plt\n",
    "\n",
    "from sklearn.datasets import fetch_openml\n",
    "from sklearn.model_selection import StratifiedShuffleSplit\n",
    "\n",
    "from sklearn.metrics import precision_recall_fscore_support\n",
    "\n",
    "data= fetch_openml('mnist_784', version=1)#Get data from https://www.openml.org/d/554\n",
    "dfData = pd.DataFrame(np.c_[data[\"data\"],data[\"target\"]],columns = data[\"feature_names\"]+[\"target\"])"
   ]
  },
  {
   "cell_type": "code",
   "execution_count": 2,
   "metadata": {},
   "outputs": [],
   "source": [
    "stratSplit = StratifiedShuffleSplit(n_splits=1, test_size=0.2, random_state=0)\n",
    "\n",
    "for train_index, test_index in stratSplit.split(dfData[data[\"feature_names\"]], dfData[\"target\"]):\n",
    "    X_train_full = dfData[data[\"feature_names\"]].iloc[train_index]\n",
    "    X_test = dfData[data[\"feature_names\"]].iloc[test_index]\n",
    "    \n",
    "    y_train_full = dfData[\"target\"].iloc[train_index]\n",
    "    y_test = dfData[\"target\"].iloc[test_index]"
   ]
  },
  {
   "cell_type": "code",
   "execution_count": 3,
   "metadata": {},
   "outputs": [
    {
     "name": "stderr",
     "output_type": "stream",
     "text": [
      "/Users/maxschallwig/opt/anaconda3/lib/python3.7/site-packages/sklearn/linear_model/_logistic.py:940: ConvergenceWarning: lbfgs failed to converge (status=1):\n",
      "STOP: TOTAL NO. of ITERATIONS REACHED LIMIT.\n",
      "\n",
      "Increase the number of iterations (max_iter) or scale the data as shown in:\n",
      "    https://scikit-learn.org/stable/modules/preprocessing.html\n",
      "Please also refer to the documentation for alternative solver options:\n",
      "    https://scikit-learn.org/stable/modules/linear_model.html#logistic-regression\n",
      "  extra_warning_msg=_LOGISTIC_SOLVER_CONVERGENCE_MSG)\n"
     ]
    }
   ],
   "source": [
    "from sklearn.linear_model import LogisticRegression\n",
    "logReg_clf = LogisticRegression()\n",
    "\n",
    "stratSplit = StratifiedShuffleSplit(n_splits=1, test_size=0.2, random_state=1)\n",
    "\n",
    "for train_index, val_index in stratSplit.split(X_train_full, y_train_full):\n",
    "    X_train = X_train_full.iloc[train_index]\n",
    "    X_val = X_train_full.iloc[val_index]\n",
    "    \n",
    "    y_train = y_train_full.iloc[train_index]\n",
    "    y_val = y_train_full.iloc[val_index]\n",
    "    \n",
    "logReg_clf.fit(X_train, y_train)\n",
    "\n",
    "y_val_pred = logReg_clf.predict(X_val)"
   ]
  },
  {
   "cell_type": "code",
   "execution_count": 4,
   "metadata": {},
   "outputs": [
    {
     "name": "stdout",
     "output_type": "stream",
     "text": [
      "0.9166964285714285\n",
      "precision: [0.96 0.96 0.92 0.89 0.92 0.89 0.93 0.93 0.87 0.88]\n",
      "recall: [0.97 0.98 0.9  0.89 0.92 0.85 0.96 0.92 0.87 0.89]\n",
      "fscore: [0.97 0.97 0.91 0.89 0.92 0.87 0.94 0.93 0.87 0.89]\n",
      "support: [1105 1260 1118 1143 1092 1010 1100 1167 1092 1113]\n"
     ]
    }
   ],
   "source": [
    "print(logReg_clf.score(X_val,y_val))\n",
    "precision,recall,fscore,support = precision_recall_fscore_support(y_true=y_val, y_pred=y_val_pred)\n",
    "print(\"precision:\",np.round(precision,2))\n",
    "print(\"recall:\",np.round(recall,2))\n",
    "print(\"fscore:\",np.round(fscore,2))\n",
    "print(\"support:\",support)"
   ]
  },
  {
   "cell_type": "code",
   "execution_count": null,
   "metadata": {},
   "outputs": [],
   "source": []
  }
 ],
 "metadata": {
  "kernelspec": {
   "display_name": "Python 3",
   "language": "python",
   "name": "python3"
  },
  "language_info": {
   "codemirror_mode": {
    "name": "ipython",
    "version": 3
   },
   "file_extension": ".py",
   "mimetype": "text/x-python",
   "name": "python",
   "nbconvert_exporter": "python",
   "pygments_lexer": "ipython3",
   "version": "3.7.6"
  }
 },
 "nbformat": 4,
 "nbformat_minor": 2
}
