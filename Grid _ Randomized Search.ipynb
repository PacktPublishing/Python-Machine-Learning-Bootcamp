{
 "cells": [
  {
   "cell_type": "code",
   "execution_count": 4,
   "metadata": {},
   "outputs": [],
   "source": [
    "import pandas as pd\n",
    "import numpy as np\n",
    "import matplotlib.pyplot as plt\n",
    "\n",
    "from sklearn.datasets import fetch_openml\n",
    "from sklearn.model_selection import StratifiedShuffleSplit\n",
    "from sklearn.linear_model import LogisticRegression\n",
    "\n",
    "data= fetch_openml('mnist_784', version=1)#Get data from https://www.openml.org/d/554\n",
    "dfData = pd.DataFrame(np.c_[data[\"data\"],data[\"target\"]],columns = data[\"feature_names\"]+[\"target\"])"
   ]
  },
  {
   "cell_type": "code",
   "execution_count": 5,
   "metadata": {},
   "outputs": [],
   "source": [
    "stratSplit = StratifiedShuffleSplit(n_splits=1, test_size=0.2, random_state=0)\n",
    "\n",
    "for train_index, test_index in stratSplit.split(dfData[data[\"feature_names\"]], dfData[\"target\"]):\n",
    "    X_train = dfData[data[\"feature_names\"]].iloc[train_index]\n",
    "    X_test = dfData[data[\"feature_names\"]].iloc[test_index]\n",
    "    \n",
    "    y_train = dfData[\"target\"].iloc[train_index]\n",
    "    y_test = dfData[\"target\"].iloc[test_index]"
   ]
  },
  {
   "cell_type": "code",
   "execution_count": 6,
   "metadata": {},
   "outputs": [
    {
     "name": "stderr",
     "output_type": "stream",
     "text": [
      "/Users/maxschallwig/opt/anaconda3/lib/python3.7/site-packages/joblib/externals/loky/process_executor.py:706: UserWarning: A worker stopped while some jobs were given to the executor. This can be caused by a too short worker timeout or by a memory leak.\n",
      "  \"timeout or by a memory leak.\", UserWarning\n",
      "/Users/maxschallwig/opt/anaconda3/lib/python3.7/site-packages/sklearn/linear_model/_logistic.py:940: ConvergenceWarning: lbfgs failed to converge (status=1):\n",
      "STOP: TOTAL NO. of ITERATIONS REACHED LIMIT.\n",
      "\n",
      "Increase the number of iterations (max_iter) or scale the data as shown in:\n",
      "    https://scikit-learn.org/stable/modules/preprocessing.html\n",
      "Please also refer to the documentation for alternative solver options:\n",
      "    https://scikit-learn.org/stable/modules/linear_model.html#logistic-regression\n",
      "  extra_warning_msg=_LOGISTIC_SOLVER_CONVERGENCE_MSG)\n"
     ]
    },
    {
     "data": {
      "text/plain": [
       "GridSearchCV(cv=3, error_score=nan,\n",
       "             estimator=LogisticRegression(C=1.0, class_weight=None, dual=False,\n",
       "                                          fit_intercept=True,\n",
       "                                          intercept_scaling=1, l1_ratio=None,\n",
       "                                          max_iter=100, multi_class='auto',\n",
       "                                          n_jobs=None, penalty='l2',\n",
       "                                          random_state=None, solver='lbfgs',\n",
       "                                          tol=0.0001, verbose=0,\n",
       "                                          warm_start=False),\n",
       "             iid='deprecated', n_jobs=-1,\n",
       "             param_grid=[{'C': [0.1, 1, 10], 'penalty': ['l1', 'l2']}],\n",
       "             pre_dispatch='2*n_jobs', refit='roc_auc_ovr_weighted',\n",
       "             return_train_score=True,\n",
       "             scoring=['accuracy', 'roc_auc_ovr_weighted', 'f1_macro'],\n",
       "             verbose=0)"
      ]
     },
     "execution_count": 6,
     "metadata": {},
     "output_type": "execute_result"
    }
   ],
   "source": [
    "from sklearn.model_selection import GridSearchCV\n",
    "\n",
    "params = [{\"penalty\":[\"l1\",\"l2\"],\"C\":[0.1,1,10]}]#,\n",
    "#          {\"penalty\":[\"elasticnet\"],\"C\":[0.1,1,10, 100],\"l1_ratio\":[0.1,0.3]}] #\"max_iter\":[100]\n",
    "\n",
    "logreg_clf_gscv = GridSearchCV(estimator=LogisticRegression(),\n",
    "                       param_grid=params,\n",
    "                        scoring = [\"accuracy\",\"roc_auc_ovr_weighted\",\"f1_macro\"],\n",
    "                    \n",
    "                       refit=\"roc_auc_ovr_weighted\",#True\n",
    "                        cv = 3,#If our estimator is classifier automatically do stratified CV\n",
    "                        n_jobs=-1,#Num CPUs to use for calculation, -1 means all\n",
    "                        verbose = 0,#Output status updates, higher number-> more messages\n",
    "                        return_train_score=True#if false our results won't contain training scores\n",
    "                              )\n",
    "logreg_clf_gscv.fit(X_train,y_train)"
   ]
  },
  {
   "cell_type": "code",
   "execution_count": 7,
   "metadata": {},
   "outputs": [
    {
     "name": "stdout",
     "output_type": "stream",
     "text": [
      "dict_keys(['mean_fit_time', 'std_fit_time', 'mean_score_time', 'std_score_time', 'param_C', 'param_penalty', 'params', 'split0_test_accuracy', 'split1_test_accuracy', 'split2_test_accuracy', 'mean_test_accuracy', 'std_test_accuracy', 'rank_test_accuracy', 'split0_train_accuracy', 'split1_train_accuracy', 'split2_train_accuracy', 'mean_train_accuracy', 'std_train_accuracy', 'split0_test_roc_auc_ovr_weighted', 'split1_test_roc_auc_ovr_weighted', 'split2_test_roc_auc_ovr_weighted', 'mean_test_roc_auc_ovr_weighted', 'std_test_roc_auc_ovr_weighted', 'rank_test_roc_auc_ovr_weighted', 'split0_train_roc_auc_ovr_weighted', 'split1_train_roc_auc_ovr_weighted', 'split2_train_roc_auc_ovr_weighted', 'mean_train_roc_auc_ovr_weighted', 'std_train_roc_auc_ovr_weighted', 'split0_test_f1_macro', 'split1_test_f1_macro', 'split2_test_f1_macro', 'mean_test_f1_macro', 'std_test_f1_macro', 'rank_test_f1_macro', 'split0_train_f1_macro', 'split1_train_f1_macro', 'split2_train_f1_macro', 'mean_train_f1_macro', 'std_train_f1_macro'])\n"
     ]
    }
   ],
   "source": [
    "print(logreg_clf_gscv.cv_results_.keys())"
   ]
  },
  {
   "cell_type": "code",
   "execution_count": 8,
   "metadata": {},
   "outputs": [
    {
     "name": "stdout",
     "output_type": "stream",
     "text": [
      "   mean_fit_time  std_fit_time  mean_score_time  std_score_time param_C  \\\n",
      "0       5.083324      1.852431         0.000000        0.000000     0.1   \n",
      "4      10.864562      6.677109         0.000000        0.000000      10   \n",
      "2      21.251525     13.246398         0.000000        0.000000       1   \n",
      "1      39.736764      3.113752         9.023278        1.686875     0.1   \n",
      "3      65.418435     11.234301        14.665992        4.720766       1   \n",
      "5      71.349266      5.904880        13.017945        1.124738      10   \n",
      "\n",
      "  param_penalty                       params  split0_test_accuracy  \\\n",
      "0            l1  {'C': 0.1, 'penalty': 'l1'}                   NaN   \n",
      "4            l1   {'C': 10, 'penalty': 'l1'}                   NaN   \n",
      "2            l1    {'C': 1, 'penalty': 'l1'}                   NaN   \n",
      "1            l2  {'C': 0.1, 'penalty': 'l2'}              0.916484   \n",
      "3            l2    {'C': 1, 'penalty': 'l2'}              0.915627   \n",
      "5            l2   {'C': 10, 'penalty': 'l2'}              0.915841   \n",
      "\n",
      "   split1_test_accuracy  split2_test_accuracy  ...  split1_test_f1_macro  \\\n",
      "0                   NaN                   NaN  ...                   NaN   \n",
      "4                   NaN                   NaN  ...                   NaN   \n",
      "2                   NaN                   NaN  ...                   NaN   \n",
      "1              0.913591              0.913318  ...              0.912271   \n",
      "3              0.913966              0.912622  ...              0.912686   \n",
      "5              0.914019              0.912140  ...              0.912726   \n",
      "\n",
      "   split2_test_f1_macro  mean_test_f1_macro  std_test_f1_macro  \\\n",
      "0                   NaN                 NaN                NaN   \n",
      "4                   NaN                 NaN                NaN   \n",
      "2                   NaN                 NaN                NaN   \n",
      "1              0.911933            0.913195           0.001552   \n",
      "3              0.911205            0.912803           0.001355   \n",
      "5              0.910747            0.912739           0.001632   \n",
      "\n",
      "   rank_test_f1_macro  split0_train_f1_macro  split1_train_f1_macro  \\\n",
      "0                   4                    NaN                    NaN   \n",
      "4                   6                    NaN                    NaN   \n",
      "2                   5                    NaN                    NaN   \n",
      "1                   1               0.935961               0.937049   \n",
      "3                   2               0.935954               0.937463   \n",
      "5                   3               0.936291               0.936586   \n",
      "\n",
      "   split2_train_f1_macro  mean_train_f1_macro  std_train_f1_macro  \n",
      "0                    NaN                  NaN                 NaN  \n",
      "4                    NaN                  NaN                 NaN  \n",
      "2                    NaN                  NaN                 NaN  \n",
      "1               0.940005             0.937672            0.001709  \n",
      "3               0.939328             0.937582            0.001380  \n",
      "5               0.939463             0.937447            0.001431  \n",
      "\n",
      "[6 rows x 40 columns]\n"
     ]
    }
   ],
   "source": [
    "resultsCVDF = pd.DataFrame(logreg_clf_gscv.cv_results_)\n",
    "print(resultsCVDF.sort_values(\"mean_fit_time\",ascending=True))"
   ]
  },
  {
   "cell_type": "code",
   "execution_count": 9,
   "metadata": {},
   "outputs": [
    {
     "data": {
      "text/plain": [
       "mean_fit_time                                            39.7368\n",
       "std_fit_time                                             3.11375\n",
       "mean_score_time                                          9.02328\n",
       "std_score_time                                           1.68688\n",
       "param_C                                                      0.1\n",
       "param_penalty                                                 l2\n",
       "params                               {'C': 0.1, 'penalty': 'l2'}\n",
       "split0_test_accuracy                                    0.916484\n",
       "split1_test_accuracy                                    0.913591\n",
       "split2_test_accuracy                                    0.913318\n",
       "mean_test_accuracy                                      0.914464\n",
       "std_test_accuracy                                     0.00143224\n",
       "rank_test_accuracy                                             1\n",
       "split0_train_accuracy                                   0.936839\n",
       "split1_train_accuracy                                   0.937857\n",
       "split2_train_accuracy                                   0.940805\n",
       "mean_train_accuracy                                       0.9385\n",
       "std_train_accuracy                                    0.00168178\n",
       "split0_test_roc_auc_ovr_weighted                        0.992254\n",
       "split1_test_roc_auc_ovr_weighted                        0.992531\n",
       "split2_test_roc_auc_ovr_weighted                        0.992234\n",
       "mean_test_roc_auc_ovr_weighted                           0.99234\n",
       "std_test_roc_auc_ovr_weighted                        0.000135795\n",
       "rank_test_roc_auc_ovr_weighted                                 1\n",
       "split0_train_roc_auc_ovr_weighted                       0.995685\n",
       "split1_train_roc_auc_ovr_weighted                       0.995747\n",
       "split2_train_roc_auc_ovr_weighted                       0.995706\n",
       "mean_train_roc_auc_ovr_weighted                         0.995713\n",
       "std_train_roc_auc_ovr_weighted                       2.56627e-05\n",
       "split0_test_f1_macro                                    0.915381\n",
       "split1_test_f1_macro                                    0.912271\n",
       "split2_test_f1_macro                                    0.911933\n",
       "mean_test_f1_macro                                      0.913195\n",
       "std_test_f1_macro                                     0.00155166\n",
       "rank_test_f1_macro                                             1\n",
       "split0_train_f1_macro                                   0.935961\n",
       "split1_train_f1_macro                                   0.937049\n",
       "split2_train_f1_macro                                   0.940005\n",
       "mean_train_f1_macro                                     0.937672\n",
       "std_train_f1_macro                                    0.00170861\n",
       "Name: 1, dtype: object"
      ]
     },
     "execution_count": 9,
     "metadata": {},
     "output_type": "execute_result"
    }
   ],
   "source": [
    "# best_index_ #only with refit for multi-scoring cases\n",
    "resultsCVDF.iloc[logreg_clf_gscv.best_index_]"
   ]
  },
  {
   "cell_type": "code",
   "execution_count": 15,
   "metadata": {},
   "outputs": [
    {
     "name": "stdout",
     "output_type": "stream",
     "text": [
      "LogisticRegression(C=0.1, class_weight=None, dual=False, fit_intercept=True,\n",
      "                   intercept_scaling=1, l1_ratio=None, max_iter=100,\n",
      "                   multi_class='auto', n_jobs=None, penalty='l2',\n",
      "                   random_state=None, solver='lbfgs', tol=0.0001, verbose=0,\n",
      "                   warm_start=False)\n"
     ]
    },
    {
     "data": {
      "text/plain": [
       "array(['9', '0', '6', ..., '5', '4', '5'], dtype=object)"
      ]
     },
     "execution_count": 15,
     "metadata": {},
     "output_type": "execute_result"
    }
   ],
   "source": [
    "print(logreg_clf_gscv.best_estimator_) #only with refit\n",
    "logreg_clf_gscv.best_estimator_.predict(X_train)"
   ]
  },
  {
   "cell_type": "code",
   "execution_count": 11,
   "metadata": {},
   "outputs": [
    {
     "name": "stdout",
     "output_type": "stream",
     "text": [
      "0.9923396074241265\n",
      "{'C': 0.1, 'penalty': 'l2'}\n"
     ]
    }
   ],
   "source": [
    "print(logreg_clf_gscv.best_score_) #only with refit for multi-scoring cases\n",
    "print(logreg_clf_gscv.best_params_) #only with refit for multi-scoring cases"
   ]
  },
  {
   "cell_type": "code",
   "execution_count": 12,
   "metadata": {},
   "outputs": [
    {
     "data": {
      "text/plain": [
       "{'cv': 3,\n",
       " 'error_score': nan,\n",
       " 'estimator__C': 1.0,\n",
       " 'estimator__class_weight': None,\n",
       " 'estimator__dual': False,\n",
       " 'estimator__fit_intercept': True,\n",
       " 'estimator__intercept_scaling': 1,\n",
       " 'estimator__l1_ratio': None,\n",
       " 'estimator__max_iter': 100,\n",
       " 'estimator__multi_class': 'auto',\n",
       " 'estimator__n_jobs': None,\n",
       " 'estimator__penalty': 'l2',\n",
       " 'estimator__random_state': None,\n",
       " 'estimator__solver': 'lbfgs',\n",
       " 'estimator__tol': 0.0001,\n",
       " 'estimator__verbose': 0,\n",
       " 'estimator__warm_start': False,\n",
       " 'estimator': LogisticRegression(C=1.0, class_weight=None, dual=False, fit_intercept=True,\n",
       "                    intercept_scaling=1, l1_ratio=None, max_iter=100,\n",
       "                    multi_class='auto', n_jobs=None, penalty='l2',\n",
       "                    random_state=None, solver='lbfgs', tol=0.0001, verbose=0,\n",
       "                    warm_start=False),\n",
       " 'iid': 'deprecated',\n",
       " 'n_jobs': -1,\n",
       " 'param_grid': [{'penalty': ['l1', 'l2'], 'C': [0.1, 1, 10]}],\n",
       " 'pre_dispatch': '2*n_jobs',\n",
       " 'refit': 'roc_auc_ovr_weighted',\n",
       " 'return_train_score': True,\n",
       " 'scoring': ['accuracy', 'roc_auc_ovr_weighted', 'f1_macro'],\n",
       " 'verbose': 0}"
      ]
     },
     "execution_count": 12,
     "metadata": {},
     "output_type": "execute_result"
    }
   ],
   "source": [
    "logreg_clf_gscv.get_params()"
   ]
  },
  {
   "cell_type": "code",
   "execution_count": 13,
   "metadata": {},
   "outputs": [
    {
     "data": {
      "text/plain": [
       "array(['9', '0', '6', ..., '5', '4', '5'], dtype=object)"
      ]
     },
     "execution_count": 13,
     "metadata": {},
     "output_type": "execute_result"
    }
   ],
   "source": [
    "logreg_clf_gscv.predict(X_train)#only when refit is true"
   ]
  },
  {
   "cell_type": "code",
   "execution_count": 18,
   "metadata": {},
   "outputs": [
    {
     "name": "stderr",
     "output_type": "stream",
     "text": [
      "/Users/maxschallwig/opt/anaconda3/lib/python3.7/site-packages/sklearn/model_selection/_search.py:281: UserWarning: The total space of parameters 6 is smaller than n_iter=10. Running 6 iterations. For exhaustive searches, use GridSearchCV.\n",
      "  % (grid_size, self.n_iter, grid_size), UserWarning)\n",
      "/Users/maxschallwig/opt/anaconda3/lib/python3.7/site-packages/joblib/externals/loky/process_executor.py:706: UserWarning: A worker stopped while some jobs were given to the executor. This can be caused by a too short worker timeout or by a memory leak.\n",
      "  \"timeout or by a memory leak.\", UserWarning\n",
      "/Users/maxschallwig/opt/anaconda3/lib/python3.7/site-packages/sklearn/linear_model/_logistic.py:940: ConvergenceWarning: lbfgs failed to converge (status=1):\n",
      "STOP: TOTAL NO. of ITERATIONS REACHED LIMIT.\n",
      "\n",
      "Increase the number of iterations (max_iter) or scale the data as shown in:\n",
      "    https://scikit-learn.org/stable/modules/preprocessing.html\n",
      "Please also refer to the documentation for alternative solver options:\n",
      "    https://scikit-learn.org/stable/modules/linear_model.html#logistic-regression\n",
      "  extra_warning_msg=_LOGISTIC_SOLVER_CONVERGENCE_MSG)\n"
     ]
    },
    {
     "data": {
      "text/plain": [
       "RandomizedSearchCV(cv=3, error_score=nan,\n",
       "                   estimator=LogisticRegression(C=1.0, class_weight=None,\n",
       "                                                dual=False, fit_intercept=True,\n",
       "                                                intercept_scaling=1,\n",
       "                                                l1_ratio=None, max_iter=100,\n",
       "                                                multi_class='auto', n_jobs=None,\n",
       "                                                penalty='l2', random_state=None,\n",
       "                                                solver='lbfgs', tol=0.0001,\n",
       "                                                verbose=0, warm_start=False),\n",
       "                   iid='deprecated', n_iter=10, n_jobs=-1,\n",
       "                   param_distributions=[{'C': [0.1, 1, 10],\n",
       "                                         'penalty': ['l1', 'l2']}],\n",
       "                   pre_dispatch='2*n_jobs', random_state=None,\n",
       "                   refit='roc_auc_ovr_weighted', return_train_score=True,\n",
       "                   scoring=['accuracy', 'roc_auc_ovr_weighted', 'f1_macro'],\n",
       "                   verbose=0)"
      ]
     },
     "execution_count": 18,
     "metadata": {},
     "output_type": "execute_result"
    }
   ],
   "source": [
    "from sklearn.model_selection import RandomizedSearchCV\n",
    "\n",
    "logreg_clf_rscv = RandomizedSearchCV(estimator = LogisticRegression(),\n",
    "                       param_distributions = params,\n",
    "                        n_iter = 10,# num param settings sampled\n",
    "                        random_state = None,#if not none uses this integer as seed\n",
    "                        scoring = [\"accuracy\",\"roc_auc_ovr_weighted\",\"f1_macro\"],\n",
    "                    \n",
    "                       refit=\"roc_auc_ovr_weighted\",#True\n",
    "                        cv = 3,#If our estimator is classifier automatically do stratified CV\n",
    "                        n_jobs=-1,#Num CPUs to use for calculation, -1 means all\n",
    "                        verbose = 0,#Output status updates, higher number-> more messages\n",
    "                        return_train_score=True#if false our results won't contain training scores\n",
    "                              )\n",
    "logreg_clf_rscv.fit(X_train,y_train)"
   ]
  },
  {
   "cell_type": "code",
   "execution_count": 19,
   "metadata": {},
   "outputs": [
    {
     "name": "stdout",
     "output_type": "stream",
     "text": [
      "   mean_fit_time  std_fit_time  mean_score_time  std_score_time param_penalty  \\\n",
      "2      24.354877      4.996888         0.000000        0.000000            l1   \n",
      "4      25.150341      1.536706         0.000000        0.000000            l1   \n",
      "0      37.539734     23.818937         0.000000        0.000000            l1   \n",
      "5      78.361490     14.619442        19.910446        7.244386            l2   \n",
      "1     100.904246     23.412529        30.013027        8.491973            l2   \n",
      "3     107.371277     35.923855        25.766912        7.818503            l2   \n",
      "\n",
      "  param_C                       params  split0_test_accuracy  \\\n",
      "2       1    {'penalty': 'l1', 'C': 1}                   NaN   \n",
      "4      10   {'penalty': 'l1', 'C': 10}                   NaN   \n",
      "0     0.1  {'penalty': 'l1', 'C': 0.1}                   NaN   \n",
      "5      10   {'penalty': 'l2', 'C': 10}              0.915841   \n",
      "1     0.1  {'penalty': 'l2', 'C': 0.1}              0.916484   \n",
      "3       1    {'penalty': 'l2', 'C': 1}              0.915627   \n",
      "\n",
      "   split1_test_accuracy  split2_test_accuracy  ...  split1_test_f1_macro  \\\n",
      "2                   NaN                   NaN  ...                   NaN   \n",
      "4                   NaN                   NaN  ...                   NaN   \n",
      "0                   NaN                   NaN  ...                   NaN   \n",
      "5              0.914019              0.912140  ...              0.912726   \n",
      "1              0.913591              0.913318  ...              0.912271   \n",
      "3              0.913966              0.912622  ...              0.912686   \n",
      "\n",
      "   split2_test_f1_macro  mean_test_f1_macro  std_test_f1_macro  \\\n",
      "2                   NaN                 NaN                NaN   \n",
      "4                   NaN                 NaN                NaN   \n",
      "0                   NaN                 NaN                NaN   \n",
      "5              0.910747            0.912739           0.001632   \n",
      "1              0.911933            0.913195           0.001552   \n",
      "3              0.911205            0.912803           0.001355   \n",
      "\n",
      "   rank_test_f1_macro  split0_train_f1_macro  split1_train_f1_macro  \\\n",
      "2                   5                    NaN                    NaN   \n",
      "4                   6                    NaN                    NaN   \n",
      "0                   4                    NaN                    NaN   \n",
      "5                   3               0.936291               0.936586   \n",
      "1                   1               0.935961               0.937049   \n",
      "3                   2               0.935954               0.937463   \n",
      "\n",
      "   split2_train_f1_macro  mean_train_f1_macro  std_train_f1_macro  \n",
      "2                    NaN                  NaN                 NaN  \n",
      "4                    NaN                  NaN                 NaN  \n",
      "0                    NaN                  NaN                 NaN  \n",
      "5               0.939463             0.937447            0.001431  \n",
      "1               0.940005             0.937672            0.001709  \n",
      "3               0.939328             0.937582            0.001380  \n",
      "\n",
      "[6 rows x 40 columns]\n"
     ]
    }
   ],
   "source": [
    "resultsRSDF = pd.DataFrame(logreg_clf_rscv.cv_results_)\n",
    "print(resultsRSDF.sort_values(\"mean_fit_time\",ascending=True))"
   ]
  },
  {
   "cell_type": "code",
   "execution_count": 22,
   "metadata": {},
   "outputs": [
    {
     "name": "stderr",
     "output_type": "stream",
     "text": [
      "/Users/maxschallwig/opt/anaconda3/lib/python3.7/site-packages/joblib/externals/loky/process_executor.py:706: UserWarning: A worker stopped while some jobs were given to the executor. This can be caused by a too short worker timeout or by a memory leak.\n",
      "  \"timeout or by a memory leak.\", UserWarning\n",
      "/Users/maxschallwig/opt/anaconda3/lib/python3.7/site-packages/sklearn/linear_model/_sag.py:330: ConvergenceWarning: The max_iter was reached which means the coef_ did not converge\n",
      "  \"the coef_ did not converge\", ConvergenceWarning)\n"
     ]
    },
    {
     "data": {
      "text/plain": [
       "GridSearchCV(cv=3, error_score=nan,\n",
       "             estimator=LogisticRegression(C=1.0, class_weight=None, dual=False,\n",
       "                                          fit_intercept=True,\n",
       "                                          intercept_scaling=1, l1_ratio=None,\n",
       "                                          max_iter=100, multi_class='auto',\n",
       "                                          n_jobs=None, penalty='l2',\n",
       "                                          random_state=None, solver='lbfgs',\n",
       "                                          tol=0.0001, verbose=0,\n",
       "                                          warm_start=False),\n",
       "             iid='deprecated', n_jobs=-1,\n",
       "             param_grid=[{'C': [1], 'penalty': ['l1'], 'solver': ['saga']}],\n",
       "             pre_dispatch='2*n_jobs', refit='roc_auc_ovr_weighted',\n",
       "             return_train_score=True,\n",
       "             scoring=['accuracy', 'roc_auc_ovr_weighted', 'f1_macro'],\n",
       "             verbose=0)"
      ]
     },
     "execution_count": 22,
     "metadata": {},
     "output_type": "execute_result"
    }
   ],
   "source": [
    "params = [{\"penalty\":[\"l1\"],\"C\":[1],\"solver\":[\"saga\"]}]\n",
    "\n",
    "# params = [{\"penalty\":[\"l1\"],\"C\":[0.1,1,10],\"solver\":[\"saga\"]},\n",
    "#          {\"penalty\":[\"l2\"],\"C\":[0.1,1,10],\"solver\":[\"saga\"]},\n",
    "#          {\"penalty\":[\"l2\"],\"C\":[0.1,1,10],\"solver\":[\"lbfgs\"]}]\n",
    "\n",
    "logreg_clf_gscv = GridSearchCV(estimator=LogisticRegression(),\n",
    "                       param_grid=params,\n",
    "                        scoring = [\"accuracy\",\"roc_auc_ovr_weighted\",\"f1_macro\"],\n",
    "                    \n",
    "                       refit=\"roc_auc_ovr_weighted\",#True\n",
    "                        cv = 3,#If our estimator is classifier automatically do stratified CV\n",
    "                        n_jobs=-1,#Num CPUs to use for calculation, -1 means all\n",
    "                        verbose = 0,#Output status updates, higher number-> more messages\n",
    "                        return_train_score=True#if false our results won't contain training scores\n",
    "                              )\n",
    "logreg_clf_gscv.fit(X_train,y_train)"
   ]
  },
  {
   "cell_type": "code",
   "execution_count": 26,
   "metadata": {},
   "outputs": [
    {
     "name": "stdout",
     "output_type": "stream",
     "text": [
      "mean_fit_time                                                            424.757\n",
      "std_fit_time                                                             15.2792\n",
      "mean_score_time                                                          3.72936\n",
      "std_score_time                                                          0.586606\n",
      "param_C                                                                        1\n",
      "param_penalty                                                                 l1\n",
      "param_solver                                                                saga\n",
      "params                               {'C': 1, 'penalty': 'l1', 'solver': 'saga'}\n",
      "split0_test_accuracy                                                    0.917448\n",
      "split1_test_accuracy                                                     0.91418\n",
      "split2_test_accuracy                                                    0.913908\n",
      "mean_test_accuracy                                                      0.915179\n",
      "std_test_accuracy                                                     0.00160853\n",
      "rank_test_accuracy                                                             1\n",
      "split0_train_accuracy                                                   0.942357\n",
      "split1_train_accuracy                                                   0.942169\n",
      "split2_train_accuracy                                                   0.944233\n",
      "mean_train_accuracy                                                      0.94292\n",
      "std_train_accuracy                                                   0.000931939\n",
      "split0_test_roc_auc_ovr_weighted                                        0.992337\n",
      "split1_test_roc_auc_ovr_weighted                                        0.992554\n",
      "split2_test_roc_auc_ovr_weighted                                          0.9923\n",
      "mean_test_roc_auc_ovr_weighted                                          0.992397\n",
      "std_test_roc_auc_ovr_weighted                                        0.000111769\n",
      "rank_test_roc_auc_ovr_weighted                                                 1\n",
      "split0_train_roc_auc_ovr_weighted                                       0.996336\n",
      "split1_train_roc_auc_ovr_weighted                                       0.996337\n",
      "split2_train_roc_auc_ovr_weighted                                        0.99631\n",
      "mean_train_roc_auc_ovr_weighted                                         0.996328\n",
      "std_train_roc_auc_ovr_weighted                                       1.23753e-05\n",
      "split0_test_f1_macro                                                    0.916358\n",
      "split1_test_f1_macro                                                    0.912959\n",
      "split2_test_f1_macro                                                    0.912564\n",
      "mean_test_f1_macro                                                       0.91396\n",
      "std_test_f1_macro                                                     0.00170314\n",
      "rank_test_f1_macro                                                             1\n",
      "split0_train_f1_macro                                                   0.941546\n",
      "split1_train_f1_macro                                                   0.941403\n",
      "split2_train_f1_macro                                                   0.943477\n",
      "mean_train_f1_macro                                                     0.942142\n",
      "std_train_f1_macro                                                   0.000946091\n",
      "Name: 0, dtype: object\n"
     ]
    }
   ],
   "source": [
    "print(pd.DataFrame(logreg_clf_gscv.cv_results_).iloc[0])"
   ]
  },
  {
   "cell_type": "code",
   "execution_count": null,
   "metadata": {},
   "outputs": [],
   "source": []
  }
 ],
 "metadata": {
  "kernelspec": {
   "display_name": "Python 3",
   "language": "python",
   "name": "python3"
  },
  "language_info": {
   "codemirror_mode": {
    "name": "ipython",
    "version": 3
   },
   "file_extension": ".py",
   "mimetype": "text/x-python",
   "name": "python",
   "nbconvert_exporter": "python",
   "pygments_lexer": "ipython3",
   "version": "3.7.6"
  }
 },
 "nbformat": 4,
 "nbformat_minor": 2
}
