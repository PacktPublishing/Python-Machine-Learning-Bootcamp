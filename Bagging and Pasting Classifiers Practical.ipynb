{
 "cells": [
  {
   "cell_type": "code",
   "execution_count": 1,
   "metadata": {},
   "outputs": [],
   "source": [
    "import pandas as pd\n",
    "import numpy as np\n",
    "import matplotlib.pyplot as plt\n",
    "\n",
    "from sklearn.datasets import fetch_openml\n",
    "from sklearn.model_selection import StratifiedShuffleSplit\n",
    "from sklearn.tree import DecisionTreeClassifier\n",
    "\n",
    "data = fetch_openml('mnist_784', version=1)#Get data from https://www.openml.org/d/554\n",
    "dfData = pd.DataFrame(np.c_[data[\"data\"],data[\"target\"]],columns = data[\"feature_names\"]+[\"target\"])"
   ]
  },
  {
   "cell_type": "code",
   "execution_count": 2,
   "metadata": {},
   "outputs": [],
   "source": [
    "stratSplit = StratifiedShuffleSplit(n_splits=1, test_size=0.2, random_state=0)\n",
    "\n",
    "for train_index, test_index in stratSplit.split(dfData[data[\"feature_names\"]], dfData[\"target\"]):\n",
    "    X_train = dfData[data[\"feature_names\"]].iloc[train_index]\n",
    "    X_test = dfData[data[\"feature_names\"]].iloc[test_index]\n",
    "    \n",
    "    y_train = dfData[\"target\"].iloc[train_index]\n",
    "    y_test = dfData[\"target\"].iloc[test_index]"
   ]
  },
  {
   "cell_type": "code",
   "execution_count": 3,
   "metadata": {},
   "outputs": [
    {
     "data": {
      "text/plain": [
       "BaggingClassifier(base_estimator=DecisionTreeClassifier(ccp_alpha=0.0,\n",
       "                                                        class_weight=None,\n",
       "                                                        criterion='gini',\n",
       "                                                        max_depth=3,\n",
       "                                                        max_features='sqrt',\n",
       "                                                        max_leaf_nodes=None,\n",
       "                                                        min_impurity_decrease=0.0,\n",
       "                                                        min_impurity_split=None,\n",
       "                                                        min_samples_leaf=1,\n",
       "                                                        min_samples_split=2,\n",
       "                                                        min_weight_fraction_leaf=0.0,\n",
       "                                                        presort='deprecated',\n",
       "                                                        random_state=None,\n",
       "                                                        splitter='random'),\n",
       "                  bootstrap=True, bootstrap_features=False, max_features=0.9,\n",
       "                  max_samples=0.8, n_estimators=30, n_jobs=2, oob_score=False,\n",
       "                  random_state=0, verbose=0, warm_start=False)"
      ]
     },
     "execution_count": 3,
     "metadata": {},
     "output_type": "execute_result"
    }
   ],
   "source": [
    "from sklearn.ensemble import BaggingClassifier\n",
    "\n",
    "#soft voting by default if predict_proba method exists\n",
    "bag_clf = BaggingClassifier(base_estimator=DecisionTreeClassifier(max_depth=3,\n",
    "                                                      max_features='sqrt',\n",
    "                                                      splitter='random'),\n",
    "                            n_estimators=30,\n",
    "                            max_samples=0.8,  # int/float, default with replacement\n",
    "                                              # maximum training set sample size compared to original training set \n",
    "                            max_features=0.9, # int/float, default without replacement\n",
    "                                              # maximum feature size compared to original number of features \n",
    "                            bootstrap=True,   # bagging (True)/pasting (False) (affects max_samples behaviour)\n",
    "                            bootstrap_features=False, # if feature selection should use baggin (max_features)\n",
    "                            oob_score=False,  # perform oob scoring\n",
    "                            warm_start=False,\n",
    "                            n_jobs=2,\n",
    "                            random_state=0,\n",
    "                            verbose=0\n",
    "                            )\n",
    "\n",
    "bag_clf.fit(X_train, y_train)"
   ]
  },
  {
   "cell_type": "code",
   "execution_count": 4,
   "metadata": {},
   "outputs": [
    {
     "name": "stdout",
     "output_type": "stream",
     "text": [
      "30\n",
      "30\n",
      "30\n"
     ]
    }
   ],
   "source": [
    "print(len(bag_clf.estimators_)) # array of trained estimators\n",
    "print(len(bag_clf.estimators_samples_)) # array of sample subsets for each estimator\n",
    "print(len(bag_clf.estimators_features_)) # array of feature subsets for each estimator\n",
    "\n",
    "# #when oob_score is true\n",
    "# bag_clf.oob_score_\n",
    "# bag_clf.oob_decision_function_"
   ]
  },
  {
   "cell_type": "code",
   "execution_count": 5,
   "metadata": {},
   "outputs": [],
   "source": [
    "scores = []\n",
    "for est,features in zip(bag_clf.estimators_,bag_clf.estimators_features_):\n",
    "    scores.append(est.score(X_test.values[:, features], y_test.astype(np.float64)))\n",
    "    # Sklearn transform str for of integers to np.float64 internally"
   ]
  },
  {
   "cell_type": "code",
   "execution_count": 6,
   "metadata": {},
   "outputs": [
    {
     "name": "stdout",
     "output_type": "stream",
     "text": [
      "Avg. estimator performance: 0.3655285714285715\n",
      "Estimaor performance std. dev.: 0.019923472636685657\n"
     ]
    }
   ],
   "source": [
    "print('Avg. estimator performance:',np.mean(scores))\n",
    "print('Estimaor performance std. dev.:',np.std(scores))"
   ]
  },
  {
   "cell_type": "code",
   "execution_count": 7,
   "metadata": {},
   "outputs": [
    {
     "data": {
      "text/plain": [
       "0.7021428571428572"
      ]
     },
     "execution_count": 7,
     "metadata": {},
     "output_type": "execute_result"
    }
   ],
   "source": [
    "bag_clf.score(X_test, y_test)"
   ]
  }
 ],
 "metadata": {
  "kernelspec": {
   "display_name": "Python 3",
   "language": "python",
   "name": "python3"
  },
  "language_info": {
   "codemirror_mode": {
    "name": "ipython",
    "version": 3
   },
   "file_extension": ".py",
   "mimetype": "text/x-python",
   "name": "python",
   "nbconvert_exporter": "python",
   "pygments_lexer": "ipython3",
   "version": "3.7.6"
  }
 },
 "nbformat": 4,
 "nbformat_minor": 2
}
