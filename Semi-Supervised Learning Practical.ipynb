{
 "cells": [
  {
   "cell_type": "code",
   "execution_count": 1,
   "metadata": {},
   "outputs": [],
   "source": [
    "from sklearn.datasets import fetch_openml\n",
    "import matplotlib.pyplot as plt\n",
    "from sklearn.model_selection import StratifiedShuffleSplit\n",
    "import pandas as pd\n",
    "import numpy as np\n",
    "\n",
    "data = fetch_openml('mnist_784', version=1)#Get data from https://www.openml.org/d/554\n",
    "dfData = pd.DataFrame(np.c_[data[\"data\"],data[\"target\"]],columns = data[\"feature_names\"]+[\"target\"]).astype(int)\n",
    "dfData = dfData.iloc[:2000]\n",
    "stratSplit = StratifiedShuffleSplit(n_splits=1, test_size=0.2, random_state=0)\n",
    "\n",
    "for train_index, test_index in stratSplit.split(dfData[data[\"feature_names\"]], dfData[\"target\"]):\n",
    "    X_train = dfData[data[\"feature_names\"]].iloc[train_index].values\n",
    "    X_test = dfData[data[\"feature_names\"]].iloc[test_index].values\n",
    "    \n",
    "    y_train = dfData[\"target\"].iloc[train_index].values\n",
    "    y_test = dfData[\"target\"].iloc[test_index].values"
   ]
  },
  {
   "cell_type": "code",
   "execution_count": 2,
   "metadata": {},
   "outputs": [
    {
     "data": {
      "text/plain": [
       "KMeans(algorithm='auto', copy_x=True, init='k-means++', max_iter=300,\n",
       "       n_clusters=50, n_init=10, n_jobs=2, precompute_distances='auto',\n",
       "       random_state=0, tol=0.0001, verbose=0)"
      ]
     },
     "execution_count": 2,
     "metadata": {},
     "output_type": "execute_result"
    }
   ],
   "source": [
    "from sklearn.cluster import KMeans\n",
    "n_clusters = 50\n",
    "km = KMeans(n_clusters=n_clusters,\n",
    "            random_state=0,\n",
    "            n_jobs=2\n",
    "           )\n",
    "km.fit(X_train)"
   ]
  },
  {
   "cell_type": "code",
   "execution_count": 3,
   "metadata": {},
   "outputs": [],
   "source": [
    "def findClosetsDatapoint(X_train, cluster_center):\n",
    "    dists = X_train - cluster_center\n",
    "    distnp = np.sum(np.power(dists,2),axis=1)\n",
    "    return np.argmin(distnp)\n",
    "inds = []\n",
    "for i in range(len(km.cluster_centers_)):\n",
    "    inds.append(findClosetsDatapoint(X_train, km.cluster_centers_[i]))"
   ]
  },
  {
   "cell_type": "code",
   "execution_count": 4,
   "metadata": {},
   "outputs": [],
   "source": [
    "clusters = X_train[inds].copy()\n",
    "labels = y_train[inds].copy()\n",
    "\n",
    "X_train = np.delete(X_train, inds, axis=0) # remove data points we have labeled\n",
    "y_train = np.delete(y_train, inds) # remove data points we have labeled\n",
    "\n",
    "true_labels = np.append(labels, y_train[:1000])\n",
    "clusters = np.append(clusters,X_train[:1000]) # add extra deta for label propagation, can use more but that makes it\n",
    "                                              # take longer to run\n",
    "clusters = clusters.reshape(-1, 784) # update shape to be proper MNIST shape\n",
    "labels = np.append(labels,-1*np.ones(1000)) # add -1 labels for instances where labels are unknown"
   ]
  },
  {
   "cell_type": "code",
   "execution_count": 5,
   "metadata": {},
   "outputs": [
    {
     "name": "stderr",
     "output_type": "stream",
     "text": [
      "/Users/maxschallwig/opt/anaconda3/lib/python3.7/site-packages/sklearn/semi_supervised/_label_propagation.py:277: RuntimeWarning: invalid value encountered in true_divide\n",
      "  self.label_distributions_ /= normalizer\n",
      "/Users/maxschallwig/opt/anaconda3/lib/python3.7/site-packages/sklearn/semi_supervised/_label_propagation.py:288: ConvergenceWarning: max_iter=1000 was reached without convergence.\n",
      "  category=ConvergenceWarning\n"
     ]
    }
   ],
   "source": [
    "from sklearn.semi_supervised import LabelPropagation\n",
    "label_prop = LabelPropagation(kernel='knn', # 'rbf'\n",
    "                       gamma=20,\n",
    "                       n_neighbors=7,\n",
    "                       max_iter=1000,\n",
    "                       tol=0.001,\n",
    "                       n_jobs=2\n",
    "                      )\n",
    "label_prop.fit(clusters, labels)\n",
    "newLabels = label_prop.predict(clusters)"
   ]
  },
  {
   "cell_type": "code",
   "execution_count": 6,
   "metadata": {},
   "outputs": [
    {
     "name": "stdout",
     "output_type": "stream",
     "text": [
      "(1050, 10)\n",
      "(1050,)\n"
     ]
    }
   ],
   "source": [
    "print(label_prop.label_distributions_.shape) # label matrix (n_samples, n_classes)\n",
    "print(label_prop.transduction_.shape) # labels assigned to each item"
   ]
  },
  {
   "cell_type": "code",
   "execution_count": 7,
   "metadata": {},
   "outputs": [
    {
     "data": {
      "image/png": "[encoded data removed]",
      "text/plain": [
       "<Figure size 432x288 with 1 Axes>"
      ]
     },
     "metadata": {
      "needs_background": "light"
     },
     "output_type": "display_data"
    }
   ],
   "source": [
    "index = n_clusters\n",
    "plt.imshow(clusters[index].reshape(28,28))\n",
    "plt.title(f'predicted label: {newLabels[index]}, true label: {true_labels[index]}')\n",
    "plt.show()\n",
    "# look at confusion matrix or predict_proba outputs to identify cases where the model is uncertain in or often making \n",
    "# mistakes, add in extra manual labels for these problem cases"
   ]
  },
  {
   "cell_type": "code",
   "execution_count": 8,
   "metadata": {},
   "outputs": [
    {
     "data": {
      "text/plain": [
       "0.08666666666666667"
      ]
     },
     "execution_count": 8,
     "metadata": {},
     "output_type": "execute_result"
    }
   ],
   "source": [
    "from sklearn.metrics import accuracy_score\n",
    "accuracy_score(true_labels,newLabels)"
   ]
  },
  {
   "cell_type": "code",
   "execution_count": 9,
   "metadata": {},
   "outputs": [],
   "source": [
    "from sklearn.semi_supervised import LabelSpreading\n",
    "label_spread = LabelSpreading(kernel='knn', # 'rbf'\n",
    "                             gamma=20,\n",
    "                             n_neighbors=7,\n",
    "                             alpha=0.2, # clamping, 20% of label distribution can be changed\n",
    "                             max_iter=30,\n",
    "                             tol=0.001,\n",
    "                             n_jobs=2\n",
    "                            )\n",
    "label_spread.fit(clusters, labels)\n",
    "newLabels = label_spread.predict(clusters)"
   ]
  },
  {
   "cell_type": "code",
   "execution_count": 10,
   "metadata": {},
   "outputs": [
    {
     "name": "stdout",
     "output_type": "stream",
     "text": [
      "(1050, 10)\n",
      "(1050,)\n"
     ]
    }
   ],
   "source": [
    "print(label_spread.label_distributions_.shape) # label matrix (n_samples, n_classes)\n",
    "print(label_spread.transduction_.shape) # labels assigned to each item"
   ]
  },
  {
   "cell_type": "code",
   "execution_count": 11,
   "metadata": {},
   "outputs": [
    {
     "data": {
      "image/png": "[encoded data removed]",
      "text/plain": [
       "<Figure size 432x288 with 1 Axes>"
      ]
     },
     "metadata": {
      "needs_background": "light"
     },
     "output_type": "display_data"
    },
    {
     "data": {
      "text/plain": [
       "0.8066666666666666"
      ]
     },
     "execution_count": 11,
     "metadata": {},
     "output_type": "execute_result"
    }
   ],
   "source": [
    "index = n_clusters\n",
    "plt.imshow(clusters[index].reshape(28,28))\n",
    "plt.title(f'predicted label: {newLabels[index]}, true label: {true_labels[index]}')\n",
    "plt.show()\n",
    "accuracy_score(true_labels,newLabels)"
   ]
  },
  {
   "cell_type": "code",
   "execution_count": 12,
   "metadata": {},
   "outputs": [
    {
     "data": {
      "text/plain": [
       "0.6114285714285714"
      ]
     },
     "execution_count": 12,
     "metadata": {},
     "output_type": "execute_result"
    }
   ],
   "source": [
    "from sklearn.svm import SVC\n",
    "\n",
    "svc_rbf = SVC()\n",
    "svc_rbf.fit(clusters[:n_clusters],labels[:n_clusters])\n",
    "svc_rbf.score(clusters,true_labels)"
   ]
  },
  {
   "cell_type": "code",
   "execution_count": 13,
   "metadata": {},
   "outputs": [
    {
     "data": {
      "text/plain": [
       "0.6638095238095238"
      ]
     },
     "execution_count": 13,
     "metadata": {},
     "output_type": "execute_result"
    }
   ],
   "source": [
    "from sklearn.neighbors import KNeighborsClassifier\n",
    "\n",
    "knn_clf = KNeighborsClassifier()\n",
    "knn_clf.fit(clusters[:n_clusters],labels[:n_clusters])\n",
    "knn_clf.score(clusters,true_labels)"
   ]
  },
  {
   "cell_type": "code",
   "execution_count": null,
   "metadata": {},
   "outputs": [],
   "source": []
  }
 ],
 "metadata": {
  "kernelspec": {
   "display_name": "Python 3",
   "language": "python",
   "name": "python3"
  },
  "language_info": {
   "codemirror_mode": {
    "name": "ipython",
    "version": 3
   },
   "file_extension": ".py",
   "mimetype": "text/x-python",
   "name": "python",
   "nbconvert_exporter": "python",
   "pygments_lexer": "ipython3",
   "version": "3.7.6"
  }
 },
 "nbformat": 4,
 "nbformat_minor": 2
}
